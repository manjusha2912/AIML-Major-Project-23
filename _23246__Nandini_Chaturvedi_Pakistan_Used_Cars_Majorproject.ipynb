{
  "nbformat": 4,
  "nbformat_minor": 0,
  "metadata": {
    "colab": {
      "provenance": []
    },
    "kernelspec": {
      "name": "python3",
      "display_name": "Python 3"
    },
    "language_info": {
      "name": "python"
    }
  },
  "cells": [
    {
      "cell_type": "code",
      "source": [
        "import pandas as pd\n",
        "import numpy as np\n",
        "import matplotlib.pyplot as plt\n",
        "import seaborn as sns\n",
        "import scipy.stats as stats\n",
        "import warnings\n",
        "\n",
        "warnings.filterwarnings('ignore')"
      ],
      "metadata": {
        "id": "Pjlj_mqOoplR"
      },
      "execution_count": null,
      "outputs": []
    },
    {
      "cell_type": "code",
      "source": [
        "data=pd.read_csv('PakWheelsDataSet.csv')"
      ],
      "metadata": {
        "id": "at7EdRO0VKY3"
      },
      "execution_count": null,
      "outputs": []
    },
    {
      "cell_type": "markdown",
      "source": [
        "DATA CLEANING\n"
      ],
      "metadata": {
        "id": "qbp6kl4mAQL-"
      }
    },
    {
      "cell_type": "code",
      "source": [
        "data.shape"
      ],
      "metadata": {
        "colab": {
          "base_uri": "https://localhost:8080/"
        },
        "id": "CwvD8Hhnb5k3",
        "outputId": "bcb28af1-6730-4483-a9d1-0d303bcf7faf"
      },
      "execution_count": null,
      "outputs": [
        {
          "output_type": "execute_result",
          "data": {
            "text/plain": [
              "(47155, 10)"
            ]
          },
          "metadata": {},
          "execution_count": 114
        }
      ]
    },
    {
      "cell_type": "code",
      "source": [
        "data.info()"
      ],
      "metadata": {
        "colab": {
          "base_uri": "https://localhost:8080/"
        },
        "id": "Y8LHgOWTcBmj",
        "outputId": "5182d4e3-693a-4afb-d716-00f8803e6ffc"
      },
      "execution_count": null,
      "outputs": [
        {
          "output_type": "stream",
          "name": "stdout",
          "text": [
            "<class 'pandas.core.frame.DataFrame'>\n",
            "RangeIndex: 47155 entries, 0 to 47154\n",
            "Data columns (total 10 columns):\n",
            " #   Column               Non-Null Count  Dtype  \n",
            "---  ------               --------------  -----  \n",
            " 0   Unnamed: 0           47155 non-null  int64  \n",
            " 1   Make                 47155 non-null  object \n",
            " 2   Name                 47155 non-null  object \n",
            " 3   Transmission         47154 non-null  object \n",
            " 4   Engine Type          47154 non-null  object \n",
            " 5   Engine Capacity(CC)  47151 non-null  float64\n",
            " 6   Mileage(kms)         47154 non-null  float64\n",
            " 7   City                 47154 non-null  object \n",
            " 8   Year                 47154 non-null  float64\n",
            " 9   Price                47154 non-null  float64\n",
            "dtypes: float64(4), int64(1), object(5)\n",
            "memory usage: 3.6+ MB\n"
          ]
        }
      ]
    },
    {
      "cell_type": "code",
      "source": [
        "data.drop('Unnamed: 0', axis=1, inplace=True)"
      ],
      "metadata": {
        "id": "zr5LkJV5cJjk"
      },
      "execution_count": null,
      "outputs": []
    },
    {
      "cell_type": "code",
      "source": [
        "data.describe()"
      ],
      "metadata": {
        "colab": {
          "base_uri": "https://localhost:8080/",
          "height": 300
        },
        "id": "08xaR1I2dALA",
        "outputId": "39d119f3-85a1-4626-a6c5-9c5cf3e086d8"
      },
      "execution_count": null,
      "outputs": [
        {
          "output_type": "execute_result",
          "data": {
            "text/plain": [
              "       Engine Capacity(CC)   Mileage(kms)          Year         Price\n",
              "count         47151.000000   47154.000000  47154.000000  4.715400e+04\n",
              "mean           1536.904329   84529.548395   2012.422636  3.285102e+06\n",
              "std             758.061386   76563.975965      7.273053  4.664670e+06\n",
              "min              16.000000       1.000000   1940.000000  5.000000e+05\n",
              "25%            1000.000000   35000.000000   2008.000000  1.300000e+06\n",
              "50%            1400.000000   75347.500000   2014.000000  2.190000e+06\n",
              "75%            1800.000000  115000.000000   2018.000000  3.400000e+06\n",
              "max            6603.000000  999999.000000   2021.000000  9.350000e+07"
            ],
            "text/html": [
              "\n",
              "  <div id=\"df-6e041c11-3555-4ba0-8767-a35f8a9b59cd\" class=\"colab-df-container\">\n",
              "    <div>\n",
              "<style scoped>\n",
              "    .dataframe tbody tr th:only-of-type {\n",
              "        vertical-align: middle;\n",
              "    }\n",
              "\n",
              "    .dataframe tbody tr th {\n",
              "        vertical-align: top;\n",
              "    }\n",
              "\n",
              "    .dataframe thead th {\n",
              "        text-align: right;\n",
              "    }\n",
              "</style>\n",
              "<table border=\"1\" class=\"dataframe\">\n",
              "  <thead>\n",
              "    <tr style=\"text-align: right;\">\n",
              "      <th></th>\n",
              "      <th>Engine Capacity(CC)</th>\n",
              "      <th>Mileage(kms)</th>\n",
              "      <th>Year</th>\n",
              "      <th>Price</th>\n",
              "    </tr>\n",
              "  </thead>\n",
              "  <tbody>\n",
              "    <tr>\n",
              "      <th>count</th>\n",
              "      <td>47151.000000</td>\n",
              "      <td>47154.000000</td>\n",
              "      <td>47154.000000</td>\n",
              "      <td>4.715400e+04</td>\n",
              "    </tr>\n",
              "    <tr>\n",
              "      <th>mean</th>\n",
              "      <td>1536.904329</td>\n",
              "      <td>84529.548395</td>\n",
              "      <td>2012.422636</td>\n",
              "      <td>3.285102e+06</td>\n",
              "    </tr>\n",
              "    <tr>\n",
              "      <th>std</th>\n",
              "      <td>758.061386</td>\n",
              "      <td>76563.975965</td>\n",
              "      <td>7.273053</td>\n",
              "      <td>4.664670e+06</td>\n",
              "    </tr>\n",
              "    <tr>\n",
              "      <th>min</th>\n",
              "      <td>16.000000</td>\n",
              "      <td>1.000000</td>\n",
              "      <td>1940.000000</td>\n",
              "      <td>5.000000e+05</td>\n",
              "    </tr>\n",
              "    <tr>\n",
              "      <th>25%</th>\n",
              "      <td>1000.000000</td>\n",
              "      <td>35000.000000</td>\n",
              "      <td>2008.000000</td>\n",
              "      <td>1.300000e+06</td>\n",
              "    </tr>\n",
              "    <tr>\n",
              "      <th>50%</th>\n",
              "      <td>1400.000000</td>\n",
              "      <td>75347.500000</td>\n",
              "      <td>2014.000000</td>\n",
              "      <td>2.190000e+06</td>\n",
              "    </tr>\n",
              "    <tr>\n",
              "      <th>75%</th>\n",
              "      <td>1800.000000</td>\n",
              "      <td>115000.000000</td>\n",
              "      <td>2018.000000</td>\n",
              "      <td>3.400000e+06</td>\n",
              "    </tr>\n",
              "    <tr>\n",
              "      <th>max</th>\n",
              "      <td>6603.000000</td>\n",
              "      <td>999999.000000</td>\n",
              "      <td>2021.000000</td>\n",
              "      <td>9.350000e+07</td>\n",
              "    </tr>\n",
              "  </tbody>\n",
              "</table>\n",
              "</div>\n",
              "    <div class=\"colab-df-buttons\">\n",
              "\n",
              "  <div class=\"colab-df-container\">\n",
              "    <button class=\"colab-df-convert\" onclick=\"convertToInteractive('df-6e041c11-3555-4ba0-8767-a35f8a9b59cd')\"\n",
              "            title=\"Convert this dataframe to an interactive table.\"\n",
              "            style=\"display:none;\">\n",
              "\n",
              "  <svg xmlns=\"http://www.w3.org/2000/svg\" height=\"24px\" viewBox=\"0 -960 960 960\">\n",
              "    <path d=\"M120-120v-720h720v720H120Zm60-500h600v-160H180v160Zm220 220h160v-160H400v160Zm0 220h160v-160H400v160ZM180-400h160v-160H180v160Zm440 0h160v-160H620v160ZM180-180h160v-160H180v160Zm440 0h160v-160H620v160Z\"/>\n",
              "  </svg>\n",
              "    </button>\n",
              "\n",
              "  <style>\n",
              "    .colab-df-container {\n",
              "      display:flex;\n",
              "      gap: 12px;\n",
              "    }\n",
              "\n",
              "    .colab-df-convert {\n",
              "      background-color: #E8F0FE;\n",
              "      border: none;\n",
              "      border-radius: 50%;\n",
              "      cursor: pointer;\n",
              "      display: none;\n",
              "      fill: #1967D2;\n",
              "      height: 32px;\n",
              "      padding: 0 0 0 0;\n",
              "      width: 32px;\n",
              "    }\n",
              "\n",
              "    .colab-df-convert:hover {\n",
              "      background-color: #E2EBFA;\n",
              "      box-shadow: 0px 1px 2px rgba(60, 64, 67, 0.3), 0px 1px 3px 1px rgba(60, 64, 67, 0.15);\n",
              "      fill: #174EA6;\n",
              "    }\n",
              "\n",
              "    .colab-df-buttons div {\n",
              "      margin-bottom: 4px;\n",
              "    }\n",
              "\n",
              "    [theme=dark] .colab-df-convert {\n",
              "      background-color: #3B4455;\n",
              "      fill: #D2E3FC;\n",
              "    }\n",
              "\n",
              "    [theme=dark] .colab-df-convert:hover {\n",
              "      background-color: #434B5C;\n",
              "      box-shadow: 0px 1px 3px 1px rgba(0, 0, 0, 0.15);\n",
              "      filter: drop-shadow(0px 1px 2px rgba(0, 0, 0, 0.3));\n",
              "      fill: #FFFFFF;\n",
              "    }\n",
              "  </style>\n",
              "\n",
              "    <script>\n",
              "      const buttonEl =\n",
              "        document.querySelector('#df-6e041c11-3555-4ba0-8767-a35f8a9b59cd button.colab-df-convert');\n",
              "      buttonEl.style.display =\n",
              "        google.colab.kernel.accessAllowed ? 'block' : 'none';\n",
              "\n",
              "      async function convertToInteractive(key) {\n",
              "        const element = document.querySelector('#df-6e041c11-3555-4ba0-8767-a35f8a9b59cd');\n",
              "        const dataTable =\n",
              "          await google.colab.kernel.invokeFunction('convertToInteractive',\n",
              "                                                    [key], {});\n",
              "        if (!dataTable) return;\n",
              "\n",
              "        const docLinkHtml = 'Like what you see? Visit the ' +\n",
              "          '<a target=\"_blank\" href=https://colab.research.google.com/notebooks/data_table.ipynb>data table notebook</a>'\n",
              "          + ' to learn more about interactive tables.';\n",
              "        element.innerHTML = '';\n",
              "        dataTable['output_type'] = 'display_data';\n",
              "        await google.colab.output.renderOutput(dataTable, element);\n",
              "        const docLink = document.createElement('div');\n",
              "        docLink.innerHTML = docLinkHtml;\n",
              "        element.appendChild(docLink);\n",
              "      }\n",
              "    </script>\n",
              "  </div>\n",
              "\n",
              "\n",
              "<div id=\"df-6c199ac3-01b2-48e1-b917-60fbdc12fbd2\">\n",
              "  <button class=\"colab-df-quickchart\" onclick=\"quickchart('df-6c199ac3-01b2-48e1-b917-60fbdc12fbd2')\"\n",
              "            title=\"Suggest charts.\"\n",
              "            style=\"display:none;\">\n",
              "\n",
              "<svg xmlns=\"http://www.w3.org/2000/svg\" height=\"24px\"viewBox=\"0 0 24 24\"\n",
              "     width=\"24px\">\n",
              "    <g>\n",
              "        <path d=\"M19 3H5c-1.1 0-2 .9-2 2v14c0 1.1.9 2 2 2h14c1.1 0 2-.9 2-2V5c0-1.1-.9-2-2-2zM9 17H7v-7h2v7zm4 0h-2V7h2v10zm4 0h-2v-4h2v4z\"/>\n",
              "    </g>\n",
              "</svg>\n",
              "  </button>\n",
              "\n",
              "<style>\n",
              "  .colab-df-quickchart {\n",
              "      --bg-color: #E8F0FE;\n",
              "      --fill-color: #1967D2;\n",
              "      --hover-bg-color: #E2EBFA;\n",
              "      --hover-fill-color: #174EA6;\n",
              "      --disabled-fill-color: #AAA;\n",
              "      --disabled-bg-color: #DDD;\n",
              "  }\n",
              "\n",
              "  [theme=dark] .colab-df-quickchart {\n",
              "      --bg-color: #3B4455;\n",
              "      --fill-color: #D2E3FC;\n",
              "      --hover-bg-color: #434B5C;\n",
              "      --hover-fill-color: #FFFFFF;\n",
              "      --disabled-bg-color: #3B4455;\n",
              "      --disabled-fill-color: #666;\n",
              "  }\n",
              "\n",
              "  .colab-df-quickchart {\n",
              "    background-color: var(--bg-color);\n",
              "    border: none;\n",
              "    border-radius: 50%;\n",
              "    cursor: pointer;\n",
              "    display: none;\n",
              "    fill: var(--fill-color);\n",
              "    height: 32px;\n",
              "    padding: 0;\n",
              "    width: 32px;\n",
              "  }\n",
              "\n",
              "  .colab-df-quickchart:hover {\n",
              "    background-color: var(--hover-bg-color);\n",
              "    box-shadow: 0 1px 2px rgba(60, 64, 67, 0.3), 0 1px 3px 1px rgba(60, 64, 67, 0.15);\n",
              "    fill: var(--button-hover-fill-color);\n",
              "  }\n",
              "\n",
              "  .colab-df-quickchart-complete:disabled,\n",
              "  .colab-df-quickchart-complete:disabled:hover {\n",
              "    background-color: var(--disabled-bg-color);\n",
              "    fill: var(--disabled-fill-color);\n",
              "    box-shadow: none;\n",
              "  }\n",
              "\n",
              "  .colab-df-spinner {\n",
              "    border: 2px solid var(--fill-color);\n",
              "    border-color: transparent;\n",
              "    border-bottom-color: var(--fill-color);\n",
              "    animation:\n",
              "      spin 1s steps(1) infinite;\n",
              "  }\n",
              "\n",
              "  @keyframes spin {\n",
              "    0% {\n",
              "      border-color: transparent;\n",
              "      border-bottom-color: var(--fill-color);\n",
              "      border-left-color: var(--fill-color);\n",
              "    }\n",
              "    20% {\n",
              "      border-color: transparent;\n",
              "      border-left-color: var(--fill-color);\n",
              "      border-top-color: var(--fill-color);\n",
              "    }\n",
              "    30% {\n",
              "      border-color: transparent;\n",
              "      border-left-color: var(--fill-color);\n",
              "      border-top-color: var(--fill-color);\n",
              "      border-right-color: var(--fill-color);\n",
              "    }\n",
              "    40% {\n",
              "      border-color: transparent;\n",
              "      border-right-color: var(--fill-color);\n",
              "      border-top-color: var(--fill-color);\n",
              "    }\n",
              "    60% {\n",
              "      border-color: transparent;\n",
              "      border-right-color: var(--fill-color);\n",
              "    }\n",
              "    80% {\n",
              "      border-color: transparent;\n",
              "      border-right-color: var(--fill-color);\n",
              "      border-bottom-color: var(--fill-color);\n",
              "    }\n",
              "    90% {\n",
              "      border-color: transparent;\n",
              "      border-bottom-color: var(--fill-color);\n",
              "    }\n",
              "  }\n",
              "</style>\n",
              "\n",
              "  <script>\n",
              "    async function quickchart(key) {\n",
              "      const quickchartButtonEl =\n",
              "        document.querySelector('#' + key + ' button');\n",
              "      quickchartButtonEl.disabled = true;  // To prevent multiple clicks.\n",
              "      quickchartButtonEl.classList.add('colab-df-spinner');\n",
              "      try {\n",
              "        const charts = await google.colab.kernel.invokeFunction(\n",
              "            'suggestCharts', [key], {});\n",
              "      } catch (error) {\n",
              "        console.error('Error during call to suggestCharts:', error);\n",
              "      }\n",
              "      quickchartButtonEl.classList.remove('colab-df-spinner');\n",
              "      quickchartButtonEl.classList.add('colab-df-quickchart-complete');\n",
              "    }\n",
              "    (() => {\n",
              "      let quickchartButtonEl =\n",
              "        document.querySelector('#df-6c199ac3-01b2-48e1-b917-60fbdc12fbd2 button');\n",
              "      quickchartButtonEl.style.display =\n",
              "        google.colab.kernel.accessAllowed ? 'block' : 'none';\n",
              "    })();\n",
              "  </script>\n",
              "</div>\n",
              "    </div>\n",
              "  </div>\n"
            ]
          },
          "metadata": {},
          "execution_count": 117
        }
      ]
    },
    {
      "cell_type": "code",
      "source": [
        "data.head(5)"
      ],
      "metadata": {
        "colab": {
          "base_uri": "https://localhost:8080/",
          "height": 276
        },
        "id": "6m3L2YFuC5rq",
        "outputId": "01087fc5-eedd-4ef5-c4c1-45aba0eb92c7"
      },
      "execution_count": null,
      "outputs": [
        {
          "output_type": "execute_result",
          "data": {
            "text/plain": [
              "       Make                            Name Transmission Engine Type  \\\n",
              "0     Honda                BR-V   i-VTEC S     Automatic      Petrol   \n",
              "1    Toyota  Corolla   Altis Automatic 1.6     Automatic      Petrol   \n",
              "2    Toyota        Vitz   F Limited II 1.0     Automatic      Petrol   \n",
              "3  Daihatsu        Move   Custom X Limited     Automatic      Petrol   \n",
              "4    Toyota       Prado   TX L Package 2.7     Automatic      Petrol   \n",
              "\n",
              "   Engine Capacity(CC)  Mileage(kms)     City    Year       Price  \n",
              "0               1500.0       41371.0  Karachi  2017.0   3150000.0  \n",
              "1               1600.0        2460.0  Karachi  2021.0   3575000.0  \n",
              "2               1000.0       67000.0  Karachi  2014.0   1955000.0  \n",
              "3                660.0       64000.0   Lahore  2013.0   1450000.0  \n",
              "4               2700.0       64000.0   Lahore  2016.0  19000000.0  "
            ],
            "text/html": [
              "\n",
              "  <div id=\"df-d18875e1-f0bb-4ece-aa50-34602375f2e5\" class=\"colab-df-container\">\n",
              "    <div>\n",
              "<style scoped>\n",
              "    .dataframe tbody tr th:only-of-type {\n",
              "        vertical-align: middle;\n",
              "    }\n",
              "\n",
              "    .dataframe tbody tr th {\n",
              "        vertical-align: top;\n",
              "    }\n",
              "\n",
              "    .dataframe thead th {\n",
              "        text-align: right;\n",
              "    }\n",
              "</style>\n",
              "<table border=\"1\" class=\"dataframe\">\n",
              "  <thead>\n",
              "    <tr style=\"text-align: right;\">\n",
              "      <th></th>\n",
              "      <th>Make</th>\n",
              "      <th>Name</th>\n",
              "      <th>Transmission</th>\n",
              "      <th>Engine Type</th>\n",
              "      <th>Engine Capacity(CC)</th>\n",
              "      <th>Mileage(kms)</th>\n",
              "      <th>City</th>\n",
              "      <th>Year</th>\n",
              "      <th>Price</th>\n",
              "    </tr>\n",
              "  </thead>\n",
              "  <tbody>\n",
              "    <tr>\n",
              "      <th>0</th>\n",
              "      <td>Honda</td>\n",
              "      <td>BR-V   i-VTEC S</td>\n",
              "      <td>Automatic</td>\n",
              "      <td>Petrol</td>\n",
              "      <td>1500.0</td>\n",
              "      <td>41371.0</td>\n",
              "      <td>Karachi</td>\n",
              "      <td>2017.0</td>\n",
              "      <td>3150000.0</td>\n",
              "    </tr>\n",
              "    <tr>\n",
              "      <th>1</th>\n",
              "      <td>Toyota</td>\n",
              "      <td>Corolla   Altis Automatic 1.6</td>\n",
              "      <td>Automatic</td>\n",
              "      <td>Petrol</td>\n",
              "      <td>1600.0</td>\n",
              "      <td>2460.0</td>\n",
              "      <td>Karachi</td>\n",
              "      <td>2021.0</td>\n",
              "      <td>3575000.0</td>\n",
              "    </tr>\n",
              "    <tr>\n",
              "      <th>2</th>\n",
              "      <td>Toyota</td>\n",
              "      <td>Vitz   F Limited II 1.0</td>\n",
              "      <td>Automatic</td>\n",
              "      <td>Petrol</td>\n",
              "      <td>1000.0</td>\n",
              "      <td>67000.0</td>\n",
              "      <td>Karachi</td>\n",
              "      <td>2014.0</td>\n",
              "      <td>1955000.0</td>\n",
              "    </tr>\n",
              "    <tr>\n",
              "      <th>3</th>\n",
              "      <td>Daihatsu</td>\n",
              "      <td>Move   Custom X Limited</td>\n",
              "      <td>Automatic</td>\n",
              "      <td>Petrol</td>\n",
              "      <td>660.0</td>\n",
              "      <td>64000.0</td>\n",
              "      <td>Lahore</td>\n",
              "      <td>2013.0</td>\n",
              "      <td>1450000.0</td>\n",
              "    </tr>\n",
              "    <tr>\n",
              "      <th>4</th>\n",
              "      <td>Toyota</td>\n",
              "      <td>Prado   TX L Package 2.7</td>\n",
              "      <td>Automatic</td>\n",
              "      <td>Petrol</td>\n",
              "      <td>2700.0</td>\n",
              "      <td>64000.0</td>\n",
              "      <td>Lahore</td>\n",
              "      <td>2016.0</td>\n",
              "      <td>19000000.0</td>\n",
              "    </tr>\n",
              "  </tbody>\n",
              "</table>\n",
              "</div>\n",
              "    <div class=\"colab-df-buttons\">\n",
              "\n",
              "  <div class=\"colab-df-container\">\n",
              "    <button class=\"colab-df-convert\" onclick=\"convertToInteractive('df-d18875e1-f0bb-4ece-aa50-34602375f2e5')\"\n",
              "            title=\"Convert this dataframe to an interactive table.\"\n",
              "            style=\"display:none;\">\n",
              "\n",
              "  <svg xmlns=\"http://www.w3.org/2000/svg\" height=\"24px\" viewBox=\"0 -960 960 960\">\n",
              "    <path d=\"M120-120v-720h720v720H120Zm60-500h600v-160H180v160Zm220 220h160v-160H400v160Zm0 220h160v-160H400v160ZM180-400h160v-160H180v160Zm440 0h160v-160H620v160ZM180-180h160v-160H180v160Zm440 0h160v-160H620v160Z\"/>\n",
              "  </svg>\n",
              "    </button>\n",
              "\n",
              "  <style>\n",
              "    .colab-df-container {\n",
              "      display:flex;\n",
              "      gap: 12px;\n",
              "    }\n",
              "\n",
              "    .colab-df-convert {\n",
              "      background-color: #E8F0FE;\n",
              "      border: none;\n",
              "      border-radius: 50%;\n",
              "      cursor: pointer;\n",
              "      display: none;\n",
              "      fill: #1967D2;\n",
              "      height: 32px;\n",
              "      padding: 0 0 0 0;\n",
              "      width: 32px;\n",
              "    }\n",
              "\n",
              "    .colab-df-convert:hover {\n",
              "      background-color: #E2EBFA;\n",
              "      box-shadow: 0px 1px 2px rgba(60, 64, 67, 0.3), 0px 1px 3px 1px rgba(60, 64, 67, 0.15);\n",
              "      fill: #174EA6;\n",
              "    }\n",
              "\n",
              "    .colab-df-buttons div {\n",
              "      margin-bottom: 4px;\n",
              "    }\n",
              "\n",
              "    [theme=dark] .colab-df-convert {\n",
              "      background-color: #3B4455;\n",
              "      fill: #D2E3FC;\n",
              "    }\n",
              "\n",
              "    [theme=dark] .colab-df-convert:hover {\n",
              "      background-color: #434B5C;\n",
              "      box-shadow: 0px 1px 3px 1px rgba(0, 0, 0, 0.15);\n",
              "      filter: drop-shadow(0px 1px 2px rgba(0, 0, 0, 0.3));\n",
              "      fill: #FFFFFF;\n",
              "    }\n",
              "  </style>\n",
              "\n",
              "    <script>\n",
              "      const buttonEl =\n",
              "        document.querySelector('#df-d18875e1-f0bb-4ece-aa50-34602375f2e5 button.colab-df-convert');\n",
              "      buttonEl.style.display =\n",
              "        google.colab.kernel.accessAllowed ? 'block' : 'none';\n",
              "\n",
              "      async function convertToInteractive(key) {\n",
              "        const element = document.querySelector('#df-d18875e1-f0bb-4ece-aa50-34602375f2e5');\n",
              "        const dataTable =\n",
              "          await google.colab.kernel.invokeFunction('convertToInteractive',\n",
              "                                                    [key], {});\n",
              "        if (!dataTable) return;\n",
              "\n",
              "        const docLinkHtml = 'Like what you see? Visit the ' +\n",
              "          '<a target=\"_blank\" href=https://colab.research.google.com/notebooks/data_table.ipynb>data table notebook</a>'\n",
              "          + ' to learn more about interactive tables.';\n",
              "        element.innerHTML = '';\n",
              "        dataTable['output_type'] = 'display_data';\n",
              "        await google.colab.output.renderOutput(dataTable, element);\n",
              "        const docLink = document.createElement('div');\n",
              "        docLink.innerHTML = docLinkHtml;\n",
              "        element.appendChild(docLink);\n",
              "      }\n",
              "    </script>\n",
              "  </div>\n",
              "\n",
              "\n",
              "<div id=\"df-c285b058-a64b-45e5-9378-f05a5ef6478a\">\n",
              "  <button class=\"colab-df-quickchart\" onclick=\"quickchart('df-c285b058-a64b-45e5-9378-f05a5ef6478a')\"\n",
              "            title=\"Suggest charts.\"\n",
              "            style=\"display:none;\">\n",
              "\n",
              "<svg xmlns=\"http://www.w3.org/2000/svg\" height=\"24px\"viewBox=\"0 0 24 24\"\n",
              "     width=\"24px\">\n",
              "    <g>\n",
              "        <path d=\"M19 3H5c-1.1 0-2 .9-2 2v14c0 1.1.9 2 2 2h14c1.1 0 2-.9 2-2V5c0-1.1-.9-2-2-2zM9 17H7v-7h2v7zm4 0h-2V7h2v10zm4 0h-2v-4h2v4z\"/>\n",
              "    </g>\n",
              "</svg>\n",
              "  </button>\n",
              "\n",
              "<style>\n",
              "  .colab-df-quickchart {\n",
              "      --bg-color: #E8F0FE;\n",
              "      --fill-color: #1967D2;\n",
              "      --hover-bg-color: #E2EBFA;\n",
              "      --hover-fill-color: #174EA6;\n",
              "      --disabled-fill-color: #AAA;\n",
              "      --disabled-bg-color: #DDD;\n",
              "  }\n",
              "\n",
              "  [theme=dark] .colab-df-quickchart {\n",
              "      --bg-color: #3B4455;\n",
              "      --fill-color: #D2E3FC;\n",
              "      --hover-bg-color: #434B5C;\n",
              "      --hover-fill-color: #FFFFFF;\n",
              "      --disabled-bg-color: #3B4455;\n",
              "      --disabled-fill-color: #666;\n",
              "  }\n",
              "\n",
              "  .colab-df-quickchart {\n",
              "    background-color: var(--bg-color);\n",
              "    border: none;\n",
              "    border-radius: 50%;\n",
              "    cursor: pointer;\n",
              "    display: none;\n",
              "    fill: var(--fill-color);\n",
              "    height: 32px;\n",
              "    padding: 0;\n",
              "    width: 32px;\n",
              "  }\n",
              "\n",
              "  .colab-df-quickchart:hover {\n",
              "    background-color: var(--hover-bg-color);\n",
              "    box-shadow: 0 1px 2px rgba(60, 64, 67, 0.3), 0 1px 3px 1px rgba(60, 64, 67, 0.15);\n",
              "    fill: var(--button-hover-fill-color);\n",
              "  }\n",
              "\n",
              "  .colab-df-quickchart-complete:disabled,\n",
              "  .colab-df-quickchart-complete:disabled:hover {\n",
              "    background-color: var(--disabled-bg-color);\n",
              "    fill: var(--disabled-fill-color);\n",
              "    box-shadow: none;\n",
              "  }\n",
              "\n",
              "  .colab-df-spinner {\n",
              "    border: 2px solid var(--fill-color);\n",
              "    border-color: transparent;\n",
              "    border-bottom-color: var(--fill-color);\n",
              "    animation:\n",
              "      spin 1s steps(1) infinite;\n",
              "  }\n",
              "\n",
              "  @keyframes spin {\n",
              "    0% {\n",
              "      border-color: transparent;\n",
              "      border-bottom-color: var(--fill-color);\n",
              "      border-left-color: var(--fill-color);\n",
              "    }\n",
              "    20% {\n",
              "      border-color: transparent;\n",
              "      border-left-color: var(--fill-color);\n",
              "      border-top-color: var(--fill-color);\n",
              "    }\n",
              "    30% {\n",
              "      border-color: transparent;\n",
              "      border-left-color: var(--fill-color);\n",
              "      border-top-color: var(--fill-color);\n",
              "      border-right-color: var(--fill-color);\n",
              "    }\n",
              "    40% {\n",
              "      border-color: transparent;\n",
              "      border-right-color: var(--fill-color);\n",
              "      border-top-color: var(--fill-color);\n",
              "    }\n",
              "    60% {\n",
              "      border-color: transparent;\n",
              "      border-right-color: var(--fill-color);\n",
              "    }\n",
              "    80% {\n",
              "      border-color: transparent;\n",
              "      border-right-color: var(--fill-color);\n",
              "      border-bottom-color: var(--fill-color);\n",
              "    }\n",
              "    90% {\n",
              "      border-color: transparent;\n",
              "      border-bottom-color: var(--fill-color);\n",
              "    }\n",
              "  }\n",
              "</style>\n",
              "\n",
              "  <script>\n",
              "    async function quickchart(key) {\n",
              "      const quickchartButtonEl =\n",
              "        document.querySelector('#' + key + ' button');\n",
              "      quickchartButtonEl.disabled = true;  // To prevent multiple clicks.\n",
              "      quickchartButtonEl.classList.add('colab-df-spinner');\n",
              "      try {\n",
              "        const charts = await google.colab.kernel.invokeFunction(\n",
              "            'suggestCharts', [key], {});\n",
              "      } catch (error) {\n",
              "        console.error('Error during call to suggestCharts:', error);\n",
              "      }\n",
              "      quickchartButtonEl.classList.remove('colab-df-spinner');\n",
              "      quickchartButtonEl.classList.add('colab-df-quickchart-complete');\n",
              "    }\n",
              "    (() => {\n",
              "      let quickchartButtonEl =\n",
              "        document.querySelector('#df-c285b058-a64b-45e5-9378-f05a5ef6478a button');\n",
              "      quickchartButtonEl.style.display =\n",
              "        google.colab.kernel.accessAllowed ? 'block' : 'none';\n",
              "    })();\n",
              "  </script>\n",
              "</div>\n",
              "    </div>\n",
              "  </div>\n"
            ]
          },
          "metadata": {},
          "execution_count": 118
        }
      ]
    },
    {
      "cell_type": "code",
      "source": [
        "missing_values = data.isnull().sum()\n",
        "print(missing_values)"
      ],
      "metadata": {
        "colab": {
          "base_uri": "https://localhost:8080/"
        },
        "id": "Wlyl8Usc_dnJ",
        "outputId": "6718c730-b6bf-412d-98cc-a4d896d421f7"
      },
      "execution_count": null,
      "outputs": [
        {
          "output_type": "stream",
          "name": "stdout",
          "text": [
            "Make                   0\n",
            "Name                   0\n",
            "Transmission           1\n",
            "Engine Type            1\n",
            "Engine Capacity(CC)    4\n",
            "Mileage(kms)           1\n",
            "City                   1\n",
            "Year                   1\n",
            "Price                  1\n",
            "dtype: int64\n"
          ]
        }
      ]
    },
    {
      "cell_type": "code",
      "source": [
        "data[\"Price\"] = data[\"Price\"].replace(0, np.nan, regex=False)\n",
        "data[\"Mileage(kms)\"] = data[\"Mileage(kms)\"].replace(0, np.nan, regex=False)\n",
        "data[\"Engine Capacity(CC)\"] = data[\"Engine Capacity(CC)\"].replace(0, np.nan, regex=False)\n",
        "\n",
        "data= data.dropna(subset=['Price','Mileage(kms)','Year','City','Make','Transmission','Engine Capacity(CC)']).drop_duplicates(keep='first')\n",
        "data.shape\n"
      ],
      "metadata": {
        "id": "YKq8yfzi_6qR",
        "colab": {
          "base_uri": "https://localhost:8080/"
        },
        "outputId": "7b2df631-0894-49bc-926c-4eb47c5fe89d"
      },
      "execution_count": null,
      "outputs": [
        {
          "output_type": "execute_result",
          "data": {
            "text/plain": [
              "(42035, 9)"
            ]
          },
          "metadata": {},
          "execution_count": 120
        }
      ]
    },
    {
      "cell_type": "code",
      "source": [
        "data.columns"
      ],
      "metadata": {
        "colab": {
          "base_uri": "https://localhost:8080/"
        },
        "id": "qIb3_mHFD2e5",
        "outputId": "9066f005-38e9-4fe2-adaf-415955539278"
      },
      "execution_count": null,
      "outputs": [
        {
          "output_type": "execute_result",
          "data": {
            "text/plain": [
              "Index(['Make', 'Name', 'Transmission', 'Engine Type', 'Engine Capacity(CC)',\n",
              "       'Mileage(kms)', 'City', 'Year', 'Price'],\n",
              "      dtype='object')"
            ]
          },
          "metadata": {},
          "execution_count": 121
        }
      ]
    },
    {
      "cell_type": "code",
      "source": [
        "data.describe()"
      ],
      "metadata": {
        "colab": {
          "base_uri": "https://localhost:8080/",
          "height": 300
        },
        "id": "UyifdJWEdWRU",
        "outputId": "17d51a04-e229-41a6-ffc6-1d0c3cd9a1eb"
      },
      "execution_count": null,
      "outputs": [
        {
          "output_type": "execute_result",
          "data": {
            "text/plain": [
              "       Engine Capacity(CC)   Mileage(kms)          Year         Price\n",
              "count         42035.000000   42035.000000  42035.000000  4.203500e+04\n",
              "mean           1503.268300   87122.940906   2012.085381  3.012768e+06\n",
              "std             724.546556   78220.998552      7.368163  4.221992e+06\n",
              "min              16.000000       1.000000   1940.000000  5.000000e+05\n",
              "25%            1000.000000   38000.000000   2007.000000  1.250000e+06\n",
              "50%            1300.000000   79000.000000   2014.000000  2.050000e+06\n",
              "75%            1800.000000  118000.000000   2018.000000  3.200000e+06\n",
              "max            6603.000000  999999.000000   2021.000000  9.350000e+07"
            ],
            "text/html": [
              "\n",
              "  <div id=\"df-42c53d2c-b807-4758-bd06-751358fb10ec\" class=\"colab-df-container\">\n",
              "    <div>\n",
              "<style scoped>\n",
              "    .dataframe tbody tr th:only-of-type {\n",
              "        vertical-align: middle;\n",
              "    }\n",
              "\n",
              "    .dataframe tbody tr th {\n",
              "        vertical-align: top;\n",
              "    }\n",
              "\n",
              "    .dataframe thead th {\n",
              "        text-align: right;\n",
              "    }\n",
              "</style>\n",
              "<table border=\"1\" class=\"dataframe\">\n",
              "  <thead>\n",
              "    <tr style=\"text-align: right;\">\n",
              "      <th></th>\n",
              "      <th>Engine Capacity(CC)</th>\n",
              "      <th>Mileage(kms)</th>\n",
              "      <th>Year</th>\n",
              "      <th>Price</th>\n",
              "    </tr>\n",
              "  </thead>\n",
              "  <tbody>\n",
              "    <tr>\n",
              "      <th>count</th>\n",
              "      <td>42035.000000</td>\n",
              "      <td>42035.000000</td>\n",
              "      <td>42035.000000</td>\n",
              "      <td>4.203500e+04</td>\n",
              "    </tr>\n",
              "    <tr>\n",
              "      <th>mean</th>\n",
              "      <td>1503.268300</td>\n",
              "      <td>87122.940906</td>\n",
              "      <td>2012.085381</td>\n",
              "      <td>3.012768e+06</td>\n",
              "    </tr>\n",
              "    <tr>\n",
              "      <th>std</th>\n",
              "      <td>724.546556</td>\n",
              "      <td>78220.998552</td>\n",
              "      <td>7.368163</td>\n",
              "      <td>4.221992e+06</td>\n",
              "    </tr>\n",
              "    <tr>\n",
              "      <th>min</th>\n",
              "      <td>16.000000</td>\n",
              "      <td>1.000000</td>\n",
              "      <td>1940.000000</td>\n",
              "      <td>5.000000e+05</td>\n",
              "    </tr>\n",
              "    <tr>\n",
              "      <th>25%</th>\n",
              "      <td>1000.000000</td>\n",
              "      <td>38000.000000</td>\n",
              "      <td>2007.000000</td>\n",
              "      <td>1.250000e+06</td>\n",
              "    </tr>\n",
              "    <tr>\n",
              "      <th>50%</th>\n",
              "      <td>1300.000000</td>\n",
              "      <td>79000.000000</td>\n",
              "      <td>2014.000000</td>\n",
              "      <td>2.050000e+06</td>\n",
              "    </tr>\n",
              "    <tr>\n",
              "      <th>75%</th>\n",
              "      <td>1800.000000</td>\n",
              "      <td>118000.000000</td>\n",
              "      <td>2018.000000</td>\n",
              "      <td>3.200000e+06</td>\n",
              "    </tr>\n",
              "    <tr>\n",
              "      <th>max</th>\n",
              "      <td>6603.000000</td>\n",
              "      <td>999999.000000</td>\n",
              "      <td>2021.000000</td>\n",
              "      <td>9.350000e+07</td>\n",
              "    </tr>\n",
              "  </tbody>\n",
              "</table>\n",
              "</div>\n",
              "    <div class=\"colab-df-buttons\">\n",
              "\n",
              "  <div class=\"colab-df-container\">\n",
              "    <button class=\"colab-df-convert\" onclick=\"convertToInteractive('df-42c53d2c-b807-4758-bd06-751358fb10ec')\"\n",
              "            title=\"Convert this dataframe to an interactive table.\"\n",
              "            style=\"display:none;\">\n",
              "\n",
              "  <svg xmlns=\"http://www.w3.org/2000/svg\" height=\"24px\" viewBox=\"0 -960 960 960\">\n",
              "    <path d=\"M120-120v-720h720v720H120Zm60-500h600v-160H180v160Zm220 220h160v-160H400v160Zm0 220h160v-160H400v160ZM180-400h160v-160H180v160Zm440 0h160v-160H620v160ZM180-180h160v-160H180v160Zm440 0h160v-160H620v160Z\"/>\n",
              "  </svg>\n",
              "    </button>\n",
              "\n",
              "  <style>\n",
              "    .colab-df-container {\n",
              "      display:flex;\n",
              "      gap: 12px;\n",
              "    }\n",
              "\n",
              "    .colab-df-convert {\n",
              "      background-color: #E8F0FE;\n",
              "      border: none;\n",
              "      border-radius: 50%;\n",
              "      cursor: pointer;\n",
              "      display: none;\n",
              "      fill: #1967D2;\n",
              "      height: 32px;\n",
              "      padding: 0 0 0 0;\n",
              "      width: 32px;\n",
              "    }\n",
              "\n",
              "    .colab-df-convert:hover {\n",
              "      background-color: #E2EBFA;\n",
              "      box-shadow: 0px 1px 2px rgba(60, 64, 67, 0.3), 0px 1px 3px 1px rgba(60, 64, 67, 0.15);\n",
              "      fill: #174EA6;\n",
              "    }\n",
              "\n",
              "    .colab-df-buttons div {\n",
              "      margin-bottom: 4px;\n",
              "    }\n",
              "\n",
              "    [theme=dark] .colab-df-convert {\n",
              "      background-color: #3B4455;\n",
              "      fill: #D2E3FC;\n",
              "    }\n",
              "\n",
              "    [theme=dark] .colab-df-convert:hover {\n",
              "      background-color: #434B5C;\n",
              "      box-shadow: 0px 1px 3px 1px rgba(0, 0, 0, 0.15);\n",
              "      filter: drop-shadow(0px 1px 2px rgba(0, 0, 0, 0.3));\n",
              "      fill: #FFFFFF;\n",
              "    }\n",
              "  </style>\n",
              "\n",
              "    <script>\n",
              "      const buttonEl =\n",
              "        document.querySelector('#df-42c53d2c-b807-4758-bd06-751358fb10ec button.colab-df-convert');\n",
              "      buttonEl.style.display =\n",
              "        google.colab.kernel.accessAllowed ? 'block' : 'none';\n",
              "\n",
              "      async function convertToInteractive(key) {\n",
              "        const element = document.querySelector('#df-42c53d2c-b807-4758-bd06-751358fb10ec');\n",
              "        const dataTable =\n",
              "          await google.colab.kernel.invokeFunction('convertToInteractive',\n",
              "                                                    [key], {});\n",
              "        if (!dataTable) return;\n",
              "\n",
              "        const docLinkHtml = 'Like what you see? Visit the ' +\n",
              "          '<a target=\"_blank\" href=https://colab.research.google.com/notebooks/data_table.ipynb>data table notebook</a>'\n",
              "          + ' to learn more about interactive tables.';\n",
              "        element.innerHTML = '';\n",
              "        dataTable['output_type'] = 'display_data';\n",
              "        await google.colab.output.renderOutput(dataTable, element);\n",
              "        const docLink = document.createElement('div');\n",
              "        docLink.innerHTML = docLinkHtml;\n",
              "        element.appendChild(docLink);\n",
              "      }\n",
              "    </script>\n",
              "  </div>\n",
              "\n",
              "\n",
              "<div id=\"df-74e0dcff-6d2b-4241-af5d-c20c5d40b9a8\">\n",
              "  <button class=\"colab-df-quickchart\" onclick=\"quickchart('df-74e0dcff-6d2b-4241-af5d-c20c5d40b9a8')\"\n",
              "            title=\"Suggest charts.\"\n",
              "            style=\"display:none;\">\n",
              "\n",
              "<svg xmlns=\"http://www.w3.org/2000/svg\" height=\"24px\"viewBox=\"0 0 24 24\"\n",
              "     width=\"24px\">\n",
              "    <g>\n",
              "        <path d=\"M19 3H5c-1.1 0-2 .9-2 2v14c0 1.1.9 2 2 2h14c1.1 0 2-.9 2-2V5c0-1.1-.9-2-2-2zM9 17H7v-7h2v7zm4 0h-2V7h2v10zm4 0h-2v-4h2v4z\"/>\n",
              "    </g>\n",
              "</svg>\n",
              "  </button>\n",
              "\n",
              "<style>\n",
              "  .colab-df-quickchart {\n",
              "      --bg-color: #E8F0FE;\n",
              "      --fill-color: #1967D2;\n",
              "      --hover-bg-color: #E2EBFA;\n",
              "      --hover-fill-color: #174EA6;\n",
              "      --disabled-fill-color: #AAA;\n",
              "      --disabled-bg-color: #DDD;\n",
              "  }\n",
              "\n",
              "  [theme=dark] .colab-df-quickchart {\n",
              "      --bg-color: #3B4455;\n",
              "      --fill-color: #D2E3FC;\n",
              "      --hover-bg-color: #434B5C;\n",
              "      --hover-fill-color: #FFFFFF;\n",
              "      --disabled-bg-color: #3B4455;\n",
              "      --disabled-fill-color: #666;\n",
              "  }\n",
              "\n",
              "  .colab-df-quickchart {\n",
              "    background-color: var(--bg-color);\n",
              "    border: none;\n",
              "    border-radius: 50%;\n",
              "    cursor: pointer;\n",
              "    display: none;\n",
              "    fill: var(--fill-color);\n",
              "    height: 32px;\n",
              "    padding: 0;\n",
              "    width: 32px;\n",
              "  }\n",
              "\n",
              "  .colab-df-quickchart:hover {\n",
              "    background-color: var(--hover-bg-color);\n",
              "    box-shadow: 0 1px 2px rgba(60, 64, 67, 0.3), 0 1px 3px 1px rgba(60, 64, 67, 0.15);\n",
              "    fill: var(--button-hover-fill-color);\n",
              "  }\n",
              "\n",
              "  .colab-df-quickchart-complete:disabled,\n",
              "  .colab-df-quickchart-complete:disabled:hover {\n",
              "    background-color: var(--disabled-bg-color);\n",
              "    fill: var(--disabled-fill-color);\n",
              "    box-shadow: none;\n",
              "  }\n",
              "\n",
              "  .colab-df-spinner {\n",
              "    border: 2px solid var(--fill-color);\n",
              "    border-color: transparent;\n",
              "    border-bottom-color: var(--fill-color);\n",
              "    animation:\n",
              "      spin 1s steps(1) infinite;\n",
              "  }\n",
              "\n",
              "  @keyframes spin {\n",
              "    0% {\n",
              "      border-color: transparent;\n",
              "      border-bottom-color: var(--fill-color);\n",
              "      border-left-color: var(--fill-color);\n",
              "    }\n",
              "    20% {\n",
              "      border-color: transparent;\n",
              "      border-left-color: var(--fill-color);\n",
              "      border-top-color: var(--fill-color);\n",
              "    }\n",
              "    30% {\n",
              "      border-color: transparent;\n",
              "      border-left-color: var(--fill-color);\n",
              "      border-top-color: var(--fill-color);\n",
              "      border-right-color: var(--fill-color);\n",
              "    }\n",
              "    40% {\n",
              "      border-color: transparent;\n",
              "      border-right-color: var(--fill-color);\n",
              "      border-top-color: var(--fill-color);\n",
              "    }\n",
              "    60% {\n",
              "      border-color: transparent;\n",
              "      border-right-color: var(--fill-color);\n",
              "    }\n",
              "    80% {\n",
              "      border-color: transparent;\n",
              "      border-right-color: var(--fill-color);\n",
              "      border-bottom-color: var(--fill-color);\n",
              "    }\n",
              "    90% {\n",
              "      border-color: transparent;\n",
              "      border-bottom-color: var(--fill-color);\n",
              "    }\n",
              "  }\n",
              "</style>\n",
              "\n",
              "  <script>\n",
              "    async function quickchart(key) {\n",
              "      const quickchartButtonEl =\n",
              "        document.querySelector('#' + key + ' button');\n",
              "      quickchartButtonEl.disabled = true;  // To prevent multiple clicks.\n",
              "      quickchartButtonEl.classList.add('colab-df-spinner');\n",
              "      try {\n",
              "        const charts = await google.colab.kernel.invokeFunction(\n",
              "            'suggestCharts', [key], {});\n",
              "      } catch (error) {\n",
              "        console.error('Error during call to suggestCharts:', error);\n",
              "      }\n",
              "      quickchartButtonEl.classList.remove('colab-df-spinner');\n",
              "      quickchartButtonEl.classList.add('colab-df-quickchart-complete');\n",
              "    }\n",
              "    (() => {\n",
              "      let quickchartButtonEl =\n",
              "        document.querySelector('#df-74e0dcff-6d2b-4241-af5d-c20c5d40b9a8 button');\n",
              "      quickchartButtonEl.style.display =\n",
              "        google.colab.kernel.accessAllowed ? 'block' : 'none';\n",
              "    })();\n",
              "  </script>\n",
              "</div>\n",
              "    </div>\n",
              "  </div>\n"
            ]
          },
          "metadata": {},
          "execution_count": 122
        }
      ]
    },
    {
      "cell_type": "code",
      "source": [
        "data.rename(columns={'Price': 'Price(PKR)'}, inplace=True)\n"
      ],
      "metadata": {
        "id": "ZR48wJ1qEXqh"
      },
      "execution_count": null,
      "outputs": []
    },
    {
      "cell_type": "code",
      "source": [
        "# calculate the z-scores - rerun step 3\n",
        "\n",
        "data['Price(PKR)_zscore'] = (data['Price(PKR)'] - data['Price(PKR)'].median()) / data['Price(PKR)'].std()\n",
        "\n",
        "outlier_upp = data[data['Price(PKR)_zscore']>3]\n",
        "outlier_low = data[data['Price(PKR)_zscore']<-3]\n",
        "\n",
        "print(\"# lower Outliers\",outlier_low.shape)\n",
        "print(\"# upper Outliers\",outlier_upp.shape)\n",
        "\n",
        "#sorted_outlier_upp = outlier_upp.sort_values(by='Price_zscore', ascending=False)\n",
        "\n",
        "#print(sorted_outlier_recs)"
      ],
      "metadata": {
        "colab": {
          "base_uri": "https://localhost:8080/"
        },
        "id": "QuD7f-aJLrE-",
        "outputId": "81c03323-2a8c-47b6-cf17-594782342848"
      },
      "execution_count": null,
      "outputs": [
        {
          "output_type": "stream",
          "name": "stdout",
          "text": [
            "# lower Outliers (0, 10)\n",
            "# upper Outliers (873, 10)\n"
          ]
        }
      ]
    },
    {
      "cell_type": "code",
      "source": [
        "# calculate the z-scores - rerun step 3\n",
        "\n",
        "data['Mileage_zscore'] = (data['Mileage(kms)'] - data['Mileage(kms)'].mean()) / data['Mileage(kms)'].std()\n",
        "\n",
        "out_upp = data[data['Mileage_zscore']>=3]\n",
        "out_low = data[data['Mileage_zscore']<-3]\n",
        "\n",
        "print(\"# lower Outliers\",out_low.shape)\n",
        "print(\"# upper Outliers\",out_upp.shape)"
      ],
      "metadata": {
        "colab": {
          "base_uri": "https://localhost:8080/"
        },
        "id": "xazdQ-4heA1Q",
        "outputId": "557ff150-82ae-4372-de1a-04f04c54d528"
      },
      "execution_count": null,
      "outputs": [
        {
          "output_type": "stream",
          "name": "stdout",
          "text": [
            "# lower Outliers (0, 11)\n",
            "# upper Outliers (394, 11)\n"
          ]
        }
      ]
    },
    {
      "cell_type": "code",
      "source": [
        "# calculate the z-scores - rerun step 3\n",
        "\n",
        "data['Year_zscore'] = (data['Year'] - data['Year'].mean()) / data['Year'].std()\n",
        "\n",
        "out_upp = data[data['Year_zscore']>=3]\n",
        "out_low = data[data['Year_zscore']<-3]\n",
        "\n",
        "print(\"# lower Outliers\",out_low.shape)\n",
        "print(\"# upper Outliers\",out_upp.shape)\n"
      ],
      "metadata": {
        "colab": {
          "base_uri": "https://localhost:8080/"
        },
        "id": "xUwwolnMXBSC",
        "outputId": "4fccc0ce-a8e5-4af0-eef1-70094c3e0a74"
      },
      "execution_count": null,
      "outputs": [
        {
          "output_type": "stream",
          "name": "stdout",
          "text": [
            "# lower Outliers (500, 12)\n",
            "# upper Outliers (0, 12)\n"
          ]
        }
      ]
    },
    {
      "cell_type": "code",
      "source": [
        "\n",
        "data.drop(data[(data['Price(PKR)_zscore'] >3) | (data['Mileage_zscore']>3) | (data['Year_zscore']<-3 )].index, inplace=True)\n",
        "data.drop(columns=['Price(PKR)_zscore','Mileage_zscore','Year_zscore'], axis=1, inplace=True)\n",
        "data.shape\n"
      ],
      "metadata": {
        "colab": {
          "base_uri": "https://localhost:8080/"
        },
        "id": "5YP9o86-OPDR",
        "outputId": "02649d7a-3e20-44ef-8e5a-c078b014dc36"
      },
      "execution_count": null,
      "outputs": [
        {
          "output_type": "execute_result",
          "data": {
            "text/plain": [
              "(40293, 9)"
            ]
          },
          "metadata": {},
          "execution_count": 127
        }
      ]
    },
    {
      "cell_type": "code",
      "source": [
        "data.describe()"
      ],
      "metadata": {
        "id": "0kSXn9PhZy8Q",
        "colab": {
          "base_uri": "https://localhost:8080/",
          "height": 300
        },
        "outputId": "b64dc38f-c9af-4c7f-e00b-8d9447192407"
      },
      "execution_count": null,
      "outputs": [
        {
          "output_type": "execute_result",
          "data": {
            "text/plain": [
              "       Engine Capacity(CC)   Mileage(kms)          Year    Price(PKR)\n",
              "count         40293.000000   40293.000000  40293.000000  4.029300e+04\n",
              "mean           1448.426873   83206.124761   2012.425682  2.547127e+06\n",
              "std             627.593675   60738.779629      6.689158  1.971677e+06\n",
              "min              16.000000       1.000000   1990.000000  5.000000e+05\n",
              "25%            1000.000000   38000.000000   2008.000000  1.250000e+06\n",
              "50%            1300.000000   79000.000000   2014.000000  2.040000e+06\n",
              "75%            1800.000000  116000.000000   2018.000000  3.100000e+06\n",
              "max            6600.000000  321654.000000   2021.000000  1.470000e+07"
            ],
            "text/html": [
              "\n",
              "  <div id=\"df-0743c53b-5fdd-4186-9e7b-f856ab1dbb80\" class=\"colab-df-container\">\n",
              "    <div>\n",
              "<style scoped>\n",
              "    .dataframe tbody tr th:only-of-type {\n",
              "        vertical-align: middle;\n",
              "    }\n",
              "\n",
              "    .dataframe tbody tr th {\n",
              "        vertical-align: top;\n",
              "    }\n",
              "\n",
              "    .dataframe thead th {\n",
              "        text-align: right;\n",
              "    }\n",
              "</style>\n",
              "<table border=\"1\" class=\"dataframe\">\n",
              "  <thead>\n",
              "    <tr style=\"text-align: right;\">\n",
              "      <th></th>\n",
              "      <th>Engine Capacity(CC)</th>\n",
              "      <th>Mileage(kms)</th>\n",
              "      <th>Year</th>\n",
              "      <th>Price(PKR)</th>\n",
              "    </tr>\n",
              "  </thead>\n",
              "  <tbody>\n",
              "    <tr>\n",
              "      <th>count</th>\n",
              "      <td>40293.000000</td>\n",
              "      <td>40293.000000</td>\n",
              "      <td>40293.000000</td>\n",
              "      <td>4.029300e+04</td>\n",
              "    </tr>\n",
              "    <tr>\n",
              "      <th>mean</th>\n",
              "      <td>1448.426873</td>\n",
              "      <td>83206.124761</td>\n",
              "      <td>2012.425682</td>\n",
              "      <td>2.547127e+06</td>\n",
              "    </tr>\n",
              "    <tr>\n",
              "      <th>std</th>\n",
              "      <td>627.593675</td>\n",
              "      <td>60738.779629</td>\n",
              "      <td>6.689158</td>\n",
              "      <td>1.971677e+06</td>\n",
              "    </tr>\n",
              "    <tr>\n",
              "      <th>min</th>\n",
              "      <td>16.000000</td>\n",
              "      <td>1.000000</td>\n",
              "      <td>1990.000000</td>\n",
              "      <td>5.000000e+05</td>\n",
              "    </tr>\n",
              "    <tr>\n",
              "      <th>25%</th>\n",
              "      <td>1000.000000</td>\n",
              "      <td>38000.000000</td>\n",
              "      <td>2008.000000</td>\n",
              "      <td>1.250000e+06</td>\n",
              "    </tr>\n",
              "    <tr>\n",
              "      <th>50%</th>\n",
              "      <td>1300.000000</td>\n",
              "      <td>79000.000000</td>\n",
              "      <td>2014.000000</td>\n",
              "      <td>2.040000e+06</td>\n",
              "    </tr>\n",
              "    <tr>\n",
              "      <th>75%</th>\n",
              "      <td>1800.000000</td>\n",
              "      <td>116000.000000</td>\n",
              "      <td>2018.000000</td>\n",
              "      <td>3.100000e+06</td>\n",
              "    </tr>\n",
              "    <tr>\n",
              "      <th>max</th>\n",
              "      <td>6600.000000</td>\n",
              "      <td>321654.000000</td>\n",
              "      <td>2021.000000</td>\n",
              "      <td>1.470000e+07</td>\n",
              "    </tr>\n",
              "  </tbody>\n",
              "</table>\n",
              "</div>\n",
              "    <div class=\"colab-df-buttons\">\n",
              "\n",
              "  <div class=\"colab-df-container\">\n",
              "    <button class=\"colab-df-convert\" onclick=\"convertToInteractive('df-0743c53b-5fdd-4186-9e7b-f856ab1dbb80')\"\n",
              "            title=\"Convert this dataframe to an interactive table.\"\n",
              "            style=\"display:none;\">\n",
              "\n",
              "  <svg xmlns=\"http://www.w3.org/2000/svg\" height=\"24px\" viewBox=\"0 -960 960 960\">\n",
              "    <path d=\"M120-120v-720h720v720H120Zm60-500h600v-160H180v160Zm220 220h160v-160H400v160Zm0 220h160v-160H400v160ZM180-400h160v-160H180v160Zm440 0h160v-160H620v160ZM180-180h160v-160H180v160Zm440 0h160v-160H620v160Z\"/>\n",
              "  </svg>\n",
              "    </button>\n",
              "\n",
              "  <style>\n",
              "    .colab-df-container {\n",
              "      display:flex;\n",
              "      gap: 12px;\n",
              "    }\n",
              "\n",
              "    .colab-df-convert {\n",
              "      background-color: #E8F0FE;\n",
              "      border: none;\n",
              "      border-radius: 50%;\n",
              "      cursor: pointer;\n",
              "      display: none;\n",
              "      fill: #1967D2;\n",
              "      height: 32px;\n",
              "      padding: 0 0 0 0;\n",
              "      width: 32px;\n",
              "    }\n",
              "\n",
              "    .colab-df-convert:hover {\n",
              "      background-color: #E2EBFA;\n",
              "      box-shadow: 0px 1px 2px rgba(60, 64, 67, 0.3), 0px 1px 3px 1px rgba(60, 64, 67, 0.15);\n",
              "      fill: #174EA6;\n",
              "    }\n",
              "\n",
              "    .colab-df-buttons div {\n",
              "      margin-bottom: 4px;\n",
              "    }\n",
              "\n",
              "    [theme=dark] .colab-df-convert {\n",
              "      background-color: #3B4455;\n",
              "      fill: #D2E3FC;\n",
              "    }\n",
              "\n",
              "    [theme=dark] .colab-df-convert:hover {\n",
              "      background-color: #434B5C;\n",
              "      box-shadow: 0px 1px 3px 1px rgba(0, 0, 0, 0.15);\n",
              "      filter: drop-shadow(0px 1px 2px rgba(0, 0, 0, 0.3));\n",
              "      fill: #FFFFFF;\n",
              "    }\n",
              "  </style>\n",
              "\n",
              "    <script>\n",
              "      const buttonEl =\n",
              "        document.querySelector('#df-0743c53b-5fdd-4186-9e7b-f856ab1dbb80 button.colab-df-convert');\n",
              "      buttonEl.style.display =\n",
              "        google.colab.kernel.accessAllowed ? 'block' : 'none';\n",
              "\n",
              "      async function convertToInteractive(key) {\n",
              "        const element = document.querySelector('#df-0743c53b-5fdd-4186-9e7b-f856ab1dbb80');\n",
              "        const dataTable =\n",
              "          await google.colab.kernel.invokeFunction('convertToInteractive',\n",
              "                                                    [key], {});\n",
              "        if (!dataTable) return;\n",
              "\n",
              "        const docLinkHtml = 'Like what you see? Visit the ' +\n",
              "          '<a target=\"_blank\" href=https://colab.research.google.com/notebooks/data_table.ipynb>data table notebook</a>'\n",
              "          + ' to learn more about interactive tables.';\n",
              "        element.innerHTML = '';\n",
              "        dataTable['output_type'] = 'display_data';\n",
              "        await google.colab.output.renderOutput(dataTable, element);\n",
              "        const docLink = document.createElement('div');\n",
              "        docLink.innerHTML = docLinkHtml;\n",
              "        element.appendChild(docLink);\n",
              "      }\n",
              "    </script>\n",
              "  </div>\n",
              "\n",
              "\n",
              "<div id=\"df-c33cf9c1-f5bb-4261-8ca3-51b058f456b6\">\n",
              "  <button class=\"colab-df-quickchart\" onclick=\"quickchart('df-c33cf9c1-f5bb-4261-8ca3-51b058f456b6')\"\n",
              "            title=\"Suggest charts.\"\n",
              "            style=\"display:none;\">\n",
              "\n",
              "<svg xmlns=\"http://www.w3.org/2000/svg\" height=\"24px\"viewBox=\"0 0 24 24\"\n",
              "     width=\"24px\">\n",
              "    <g>\n",
              "        <path d=\"M19 3H5c-1.1 0-2 .9-2 2v14c0 1.1.9 2 2 2h14c1.1 0 2-.9 2-2V5c0-1.1-.9-2-2-2zM9 17H7v-7h2v7zm4 0h-2V7h2v10zm4 0h-2v-4h2v4z\"/>\n",
              "    </g>\n",
              "</svg>\n",
              "  </button>\n",
              "\n",
              "<style>\n",
              "  .colab-df-quickchart {\n",
              "      --bg-color: #E8F0FE;\n",
              "      --fill-color: #1967D2;\n",
              "      --hover-bg-color: #E2EBFA;\n",
              "      --hover-fill-color: #174EA6;\n",
              "      --disabled-fill-color: #AAA;\n",
              "      --disabled-bg-color: #DDD;\n",
              "  }\n",
              "\n",
              "  [theme=dark] .colab-df-quickchart {\n",
              "      --bg-color: #3B4455;\n",
              "      --fill-color: #D2E3FC;\n",
              "      --hover-bg-color: #434B5C;\n",
              "      --hover-fill-color: #FFFFFF;\n",
              "      --disabled-bg-color: #3B4455;\n",
              "      --disabled-fill-color: #666;\n",
              "  }\n",
              "\n",
              "  .colab-df-quickchart {\n",
              "    background-color: var(--bg-color);\n",
              "    border: none;\n",
              "    border-radius: 50%;\n",
              "    cursor: pointer;\n",
              "    display: none;\n",
              "    fill: var(--fill-color);\n",
              "    height: 32px;\n",
              "    padding: 0;\n",
              "    width: 32px;\n",
              "  }\n",
              "\n",
              "  .colab-df-quickchart:hover {\n",
              "    background-color: var(--hover-bg-color);\n",
              "    box-shadow: 0 1px 2px rgba(60, 64, 67, 0.3), 0 1px 3px 1px rgba(60, 64, 67, 0.15);\n",
              "    fill: var(--button-hover-fill-color);\n",
              "  }\n",
              "\n",
              "  .colab-df-quickchart-complete:disabled,\n",
              "  .colab-df-quickchart-complete:disabled:hover {\n",
              "    background-color: var(--disabled-bg-color);\n",
              "    fill: var(--disabled-fill-color);\n",
              "    box-shadow: none;\n",
              "  }\n",
              "\n",
              "  .colab-df-spinner {\n",
              "    border: 2px solid var(--fill-color);\n",
              "    border-color: transparent;\n",
              "    border-bottom-color: var(--fill-color);\n",
              "    animation:\n",
              "      spin 1s steps(1) infinite;\n",
              "  }\n",
              "\n",
              "  @keyframes spin {\n",
              "    0% {\n",
              "      border-color: transparent;\n",
              "      border-bottom-color: var(--fill-color);\n",
              "      border-left-color: var(--fill-color);\n",
              "    }\n",
              "    20% {\n",
              "      border-color: transparent;\n",
              "      border-left-color: var(--fill-color);\n",
              "      border-top-color: var(--fill-color);\n",
              "    }\n",
              "    30% {\n",
              "      border-color: transparent;\n",
              "      border-left-color: var(--fill-color);\n",
              "      border-top-color: var(--fill-color);\n",
              "      border-right-color: var(--fill-color);\n",
              "    }\n",
              "    40% {\n",
              "      border-color: transparent;\n",
              "      border-right-color: var(--fill-color);\n",
              "      border-top-color: var(--fill-color);\n",
              "    }\n",
              "    60% {\n",
              "      border-color: transparent;\n",
              "      border-right-color: var(--fill-color);\n",
              "    }\n",
              "    80% {\n",
              "      border-color: transparent;\n",
              "      border-right-color: var(--fill-color);\n",
              "      border-bottom-color: var(--fill-color);\n",
              "    }\n",
              "    90% {\n",
              "      border-color: transparent;\n",
              "      border-bottom-color: var(--fill-color);\n",
              "    }\n",
              "  }\n",
              "</style>\n",
              "\n",
              "  <script>\n",
              "    async function quickchart(key) {\n",
              "      const quickchartButtonEl =\n",
              "        document.querySelector('#' + key + ' button');\n",
              "      quickchartButtonEl.disabled = true;  // To prevent multiple clicks.\n",
              "      quickchartButtonEl.classList.add('colab-df-spinner');\n",
              "      try {\n",
              "        const charts = await google.colab.kernel.invokeFunction(\n",
              "            'suggestCharts', [key], {});\n",
              "      } catch (error) {\n",
              "        console.error('Error during call to suggestCharts:', error);\n",
              "      }\n",
              "      quickchartButtonEl.classList.remove('colab-df-spinner');\n",
              "      quickchartButtonEl.classList.add('colab-df-quickchart-complete');\n",
              "    }\n",
              "    (() => {\n",
              "      let quickchartButtonEl =\n",
              "        document.querySelector('#df-c33cf9c1-f5bb-4261-8ca3-51b058f456b6 button');\n",
              "      quickchartButtonEl.style.display =\n",
              "        google.colab.kernel.accessAllowed ? 'block' : 'none';\n",
              "    })();\n",
              "  </script>\n",
              "</div>\n",
              "    </div>\n",
              "  </div>\n"
            ]
          },
          "metadata": {},
          "execution_count": 128
        }
      ]
    },
    {
      "cell_type": "markdown",
      "source": [
        "Removing Outliers"
      ],
      "metadata": {
        "id": "aSSj-bCvs3ul"
      }
    },
    {
      "cell_type": "code",
      "source": [
        "# rerun step 5\n",
        "from scipy.stats import zscore\n",
        "\n",
        "# Assuming data is your DataFrame\n",
        "usedcars_filtered = data\n",
        "\n",
        "# Group rows by 'make' and 'model'\n",
        "\n",
        "grouped_models = usedcars_filtered.groupby(['Name', 'Make'])\n",
        "\n",
        "# Define a function to calculate z-scores within each group\n",
        "def calculate_zscores(group):\n",
        "    group['cc-zscore'] = zscore(group['Engine Capacity(CC)'])\n",
        "    return group\n",
        "\n",
        "# Apply the function to each group and concatenate the results\n",
        "result = grouped_models.apply(calculate_zscores)\n",
        "u_cc_outlier = result[result['cc-zscore']>3]\n",
        "l_cc_outlier = result[result['cc-zscore']<-3]\n",
        "\n",
        "# Display the resulting DataFrame\n",
        "#print(result)\n",
        "print(u_cc_outlier.count())\n",
        "print('************ Lower outliers ***********************')\n",
        "print(l_cc_outlier.count())"
      ],
      "metadata": {
        "colab": {
          "base_uri": "https://localhost:8080/"
        },
        "id": "zH9SDwzqeaWk",
        "outputId": "5aa225f8-e015-47be-d294-68f3c4a9826e"
      },
      "execution_count": null,
      "outputs": [
        {
          "output_type": "stream",
          "name": "stdout",
          "text": [
            "Make                   98\n",
            "Name                   98\n",
            "Transmission           98\n",
            "Engine Type            98\n",
            "Engine Capacity(CC)    98\n",
            "Mileage(kms)           98\n",
            "City                   98\n",
            "Year                   98\n",
            "Price(PKR)             98\n",
            "cc-zscore              98\n",
            "dtype: int64\n",
            "************ Lower outliers ***********************\n",
            "Make                   90\n",
            "Name                   90\n",
            "Transmission           90\n",
            "Engine Type            90\n",
            "Engine Capacity(CC)    90\n",
            "Mileage(kms)           90\n",
            "City                   90\n",
            "Year                   90\n",
            "Price(PKR)             90\n",
            "cc-zscore              90\n",
            "dtype: int64\n"
          ]
        }
      ]
    },
    {
      "cell_type": "code",
      "source": [
        "# Drop 'cc-outliers' model-wise -rerun step 6\n",
        "\n",
        "usedcars_filtered.drop(usedcars_filtered[(result['cc-zscore'] < -3) | (result['cc-zscore'] > 3)].index, inplace=True)\n",
        "\n",
        "data = usedcars_filtered"
      ],
      "metadata": {
        "id": "inHePdcOeaPR"
      },
      "execution_count": null,
      "outputs": []
    },
    {
      "cell_type": "code",
      "source": [
        "data.shape"
      ],
      "metadata": {
        "colab": {
          "base_uri": "https://localhost:8080/"
        },
        "id": "36LrTaMMejSU",
        "outputId": "112f65ce-9dd2-4e86-f4e3-a5654e3be1b9"
      },
      "execution_count": null,
      "outputs": [
        {
          "output_type": "execute_result",
          "data": {
            "text/plain": [
              "(40105, 9)"
            ]
          },
          "metadata": {},
          "execution_count": 131
        }
      ]
    },
    {
      "cell_type": "code",
      "source": [
        "data.describe()"
      ],
      "metadata": {
        "colab": {
          "base_uri": "https://localhost:8080/",
          "height": 300
        },
        "id": "IiExmx94emkL",
        "outputId": "72c2f9ee-b089-44c4-8f64-7b3b8169006f"
      },
      "execution_count": null,
      "outputs": [
        {
          "output_type": "execute_result",
          "data": {
            "text/plain": [
              "       Engine Capacity(CC)   Mileage(kms)          Year    Price(PKR)\n",
              "count         40105.000000   40105.000000  40105.000000  4.010500e+04\n",
              "mean           1447.296646   83188.054681   2012.441965  2.546485e+06\n",
              "std             623.688461   60668.938691      6.675800  1.967329e+06\n",
              "min             100.000000       1.000000   1990.000000  5.000000e+05\n",
              "25%            1000.000000   38000.000000   2008.000000  1.250000e+06\n",
              "50%            1300.000000   79000.000000   2014.000000  2.050000e+06\n",
              "75%            1800.000000  116000.000000   2018.000000  3.100000e+06\n",
              "max            6600.000000  321654.000000   2021.000000  1.470000e+07"
            ],
            "text/html": [
              "\n",
              "  <div id=\"df-2208aed2-58ef-4bf1-b470-ab764e2ca5ac\" class=\"colab-df-container\">\n",
              "    <div>\n",
              "<style scoped>\n",
              "    .dataframe tbody tr th:only-of-type {\n",
              "        vertical-align: middle;\n",
              "    }\n",
              "\n",
              "    .dataframe tbody tr th {\n",
              "        vertical-align: top;\n",
              "    }\n",
              "\n",
              "    .dataframe thead th {\n",
              "        text-align: right;\n",
              "    }\n",
              "</style>\n",
              "<table border=\"1\" class=\"dataframe\">\n",
              "  <thead>\n",
              "    <tr style=\"text-align: right;\">\n",
              "      <th></th>\n",
              "      <th>Engine Capacity(CC)</th>\n",
              "      <th>Mileage(kms)</th>\n",
              "      <th>Year</th>\n",
              "      <th>Price(PKR)</th>\n",
              "    </tr>\n",
              "  </thead>\n",
              "  <tbody>\n",
              "    <tr>\n",
              "      <th>count</th>\n",
              "      <td>40105.000000</td>\n",
              "      <td>40105.000000</td>\n",
              "      <td>40105.000000</td>\n",
              "      <td>4.010500e+04</td>\n",
              "    </tr>\n",
              "    <tr>\n",
              "      <th>mean</th>\n",
              "      <td>1447.296646</td>\n",
              "      <td>83188.054681</td>\n",
              "      <td>2012.441965</td>\n",
              "      <td>2.546485e+06</td>\n",
              "    </tr>\n",
              "    <tr>\n",
              "      <th>std</th>\n",
              "      <td>623.688461</td>\n",
              "      <td>60668.938691</td>\n",
              "      <td>6.675800</td>\n",
              "      <td>1.967329e+06</td>\n",
              "    </tr>\n",
              "    <tr>\n",
              "      <th>min</th>\n",
              "      <td>100.000000</td>\n",
              "      <td>1.000000</td>\n",
              "      <td>1990.000000</td>\n",
              "      <td>5.000000e+05</td>\n",
              "    </tr>\n",
              "    <tr>\n",
              "      <th>25%</th>\n",
              "      <td>1000.000000</td>\n",
              "      <td>38000.000000</td>\n",
              "      <td>2008.000000</td>\n",
              "      <td>1.250000e+06</td>\n",
              "    </tr>\n",
              "    <tr>\n",
              "      <th>50%</th>\n",
              "      <td>1300.000000</td>\n",
              "      <td>79000.000000</td>\n",
              "      <td>2014.000000</td>\n",
              "      <td>2.050000e+06</td>\n",
              "    </tr>\n",
              "    <tr>\n",
              "      <th>75%</th>\n",
              "      <td>1800.000000</td>\n",
              "      <td>116000.000000</td>\n",
              "      <td>2018.000000</td>\n",
              "      <td>3.100000e+06</td>\n",
              "    </tr>\n",
              "    <tr>\n",
              "      <th>max</th>\n",
              "      <td>6600.000000</td>\n",
              "      <td>321654.000000</td>\n",
              "      <td>2021.000000</td>\n",
              "      <td>1.470000e+07</td>\n",
              "    </tr>\n",
              "  </tbody>\n",
              "</table>\n",
              "</div>\n",
              "    <div class=\"colab-df-buttons\">\n",
              "\n",
              "  <div class=\"colab-df-container\">\n",
              "    <button class=\"colab-df-convert\" onclick=\"convertToInteractive('df-2208aed2-58ef-4bf1-b470-ab764e2ca5ac')\"\n",
              "            title=\"Convert this dataframe to an interactive table.\"\n",
              "            style=\"display:none;\">\n",
              "\n",
              "  <svg xmlns=\"http://www.w3.org/2000/svg\" height=\"24px\" viewBox=\"0 -960 960 960\">\n",
              "    <path d=\"M120-120v-720h720v720H120Zm60-500h600v-160H180v160Zm220 220h160v-160H400v160Zm0 220h160v-160H400v160ZM180-400h160v-160H180v160Zm440 0h160v-160H620v160ZM180-180h160v-160H180v160Zm440 0h160v-160H620v160Z\"/>\n",
              "  </svg>\n",
              "    </button>\n",
              "\n",
              "  <style>\n",
              "    .colab-df-container {\n",
              "      display:flex;\n",
              "      gap: 12px;\n",
              "    }\n",
              "\n",
              "    .colab-df-convert {\n",
              "      background-color: #E8F0FE;\n",
              "      border: none;\n",
              "      border-radius: 50%;\n",
              "      cursor: pointer;\n",
              "      display: none;\n",
              "      fill: #1967D2;\n",
              "      height: 32px;\n",
              "      padding: 0 0 0 0;\n",
              "      width: 32px;\n",
              "    }\n",
              "\n",
              "    .colab-df-convert:hover {\n",
              "      background-color: #E2EBFA;\n",
              "      box-shadow: 0px 1px 2px rgba(60, 64, 67, 0.3), 0px 1px 3px 1px rgba(60, 64, 67, 0.15);\n",
              "      fill: #174EA6;\n",
              "    }\n",
              "\n",
              "    .colab-df-buttons div {\n",
              "      margin-bottom: 4px;\n",
              "    }\n",
              "\n",
              "    [theme=dark] .colab-df-convert {\n",
              "      background-color: #3B4455;\n",
              "      fill: #D2E3FC;\n",
              "    }\n",
              "\n",
              "    [theme=dark] .colab-df-convert:hover {\n",
              "      background-color: #434B5C;\n",
              "      box-shadow: 0px 1px 3px 1px rgba(0, 0, 0, 0.15);\n",
              "      filter: drop-shadow(0px 1px 2px rgba(0, 0, 0, 0.3));\n",
              "      fill: #FFFFFF;\n",
              "    }\n",
              "  </style>\n",
              "\n",
              "    <script>\n",
              "      const buttonEl =\n",
              "        document.querySelector('#df-2208aed2-58ef-4bf1-b470-ab764e2ca5ac button.colab-df-convert');\n",
              "      buttonEl.style.display =\n",
              "        google.colab.kernel.accessAllowed ? 'block' : 'none';\n",
              "\n",
              "      async function convertToInteractive(key) {\n",
              "        const element = document.querySelector('#df-2208aed2-58ef-4bf1-b470-ab764e2ca5ac');\n",
              "        const dataTable =\n",
              "          await google.colab.kernel.invokeFunction('convertToInteractive',\n",
              "                                                    [key], {});\n",
              "        if (!dataTable) return;\n",
              "\n",
              "        const docLinkHtml = 'Like what you see? Visit the ' +\n",
              "          '<a target=\"_blank\" href=https://colab.research.google.com/notebooks/data_table.ipynb>data table notebook</a>'\n",
              "          + ' to learn more about interactive tables.';\n",
              "        element.innerHTML = '';\n",
              "        dataTable['output_type'] = 'display_data';\n",
              "        await google.colab.output.renderOutput(dataTable, element);\n",
              "        const docLink = document.createElement('div');\n",
              "        docLink.innerHTML = docLinkHtml;\n",
              "        element.appendChild(docLink);\n",
              "      }\n",
              "    </script>\n",
              "  </div>\n",
              "\n",
              "\n",
              "<div id=\"df-ee99b31c-feab-48a1-aef5-27637b5d50ec\">\n",
              "  <button class=\"colab-df-quickchart\" onclick=\"quickchart('df-ee99b31c-feab-48a1-aef5-27637b5d50ec')\"\n",
              "            title=\"Suggest charts.\"\n",
              "            style=\"display:none;\">\n",
              "\n",
              "<svg xmlns=\"http://www.w3.org/2000/svg\" height=\"24px\"viewBox=\"0 0 24 24\"\n",
              "     width=\"24px\">\n",
              "    <g>\n",
              "        <path d=\"M19 3H5c-1.1 0-2 .9-2 2v14c0 1.1.9 2 2 2h14c1.1 0 2-.9 2-2V5c0-1.1-.9-2-2-2zM9 17H7v-7h2v7zm4 0h-2V7h2v10zm4 0h-2v-4h2v4z\"/>\n",
              "    </g>\n",
              "</svg>\n",
              "  </button>\n",
              "\n",
              "<style>\n",
              "  .colab-df-quickchart {\n",
              "      --bg-color: #E8F0FE;\n",
              "      --fill-color: #1967D2;\n",
              "      --hover-bg-color: #E2EBFA;\n",
              "      --hover-fill-color: #174EA6;\n",
              "      --disabled-fill-color: #AAA;\n",
              "      --disabled-bg-color: #DDD;\n",
              "  }\n",
              "\n",
              "  [theme=dark] .colab-df-quickchart {\n",
              "      --bg-color: #3B4455;\n",
              "      --fill-color: #D2E3FC;\n",
              "      --hover-bg-color: #434B5C;\n",
              "      --hover-fill-color: #FFFFFF;\n",
              "      --disabled-bg-color: #3B4455;\n",
              "      --disabled-fill-color: #666;\n",
              "  }\n",
              "\n",
              "  .colab-df-quickchart {\n",
              "    background-color: var(--bg-color);\n",
              "    border: none;\n",
              "    border-radius: 50%;\n",
              "    cursor: pointer;\n",
              "    display: none;\n",
              "    fill: var(--fill-color);\n",
              "    height: 32px;\n",
              "    padding: 0;\n",
              "    width: 32px;\n",
              "  }\n",
              "\n",
              "  .colab-df-quickchart:hover {\n",
              "    background-color: var(--hover-bg-color);\n",
              "    box-shadow: 0 1px 2px rgba(60, 64, 67, 0.3), 0 1px 3px 1px rgba(60, 64, 67, 0.15);\n",
              "    fill: var(--button-hover-fill-color);\n",
              "  }\n",
              "\n",
              "  .colab-df-quickchart-complete:disabled,\n",
              "  .colab-df-quickchart-complete:disabled:hover {\n",
              "    background-color: var(--disabled-bg-color);\n",
              "    fill: var(--disabled-fill-color);\n",
              "    box-shadow: none;\n",
              "  }\n",
              "\n",
              "  .colab-df-spinner {\n",
              "    border: 2px solid var(--fill-color);\n",
              "    border-color: transparent;\n",
              "    border-bottom-color: var(--fill-color);\n",
              "    animation:\n",
              "      spin 1s steps(1) infinite;\n",
              "  }\n",
              "\n",
              "  @keyframes spin {\n",
              "    0% {\n",
              "      border-color: transparent;\n",
              "      border-bottom-color: var(--fill-color);\n",
              "      border-left-color: var(--fill-color);\n",
              "    }\n",
              "    20% {\n",
              "      border-color: transparent;\n",
              "      border-left-color: var(--fill-color);\n",
              "      border-top-color: var(--fill-color);\n",
              "    }\n",
              "    30% {\n",
              "      border-color: transparent;\n",
              "      border-left-color: var(--fill-color);\n",
              "      border-top-color: var(--fill-color);\n",
              "      border-right-color: var(--fill-color);\n",
              "    }\n",
              "    40% {\n",
              "      border-color: transparent;\n",
              "      border-right-color: var(--fill-color);\n",
              "      border-top-color: var(--fill-color);\n",
              "    }\n",
              "    60% {\n",
              "      border-color: transparent;\n",
              "      border-right-color: var(--fill-color);\n",
              "    }\n",
              "    80% {\n",
              "      border-color: transparent;\n",
              "      border-right-color: var(--fill-color);\n",
              "      border-bottom-color: var(--fill-color);\n",
              "    }\n",
              "    90% {\n",
              "      border-color: transparent;\n",
              "      border-bottom-color: var(--fill-color);\n",
              "    }\n",
              "  }\n",
              "</style>\n",
              "\n",
              "  <script>\n",
              "    async function quickchart(key) {\n",
              "      const quickchartButtonEl =\n",
              "        document.querySelector('#' + key + ' button');\n",
              "      quickchartButtonEl.disabled = true;  // To prevent multiple clicks.\n",
              "      quickchartButtonEl.classList.add('colab-df-spinner');\n",
              "      try {\n",
              "        const charts = await google.colab.kernel.invokeFunction(\n",
              "            'suggestCharts', [key], {});\n",
              "      } catch (error) {\n",
              "        console.error('Error during call to suggestCharts:', error);\n",
              "      }\n",
              "      quickchartButtonEl.classList.remove('colab-df-spinner');\n",
              "      quickchartButtonEl.classList.add('colab-df-quickchart-complete');\n",
              "    }\n",
              "    (() => {\n",
              "      let quickchartButtonEl =\n",
              "        document.querySelector('#df-ee99b31c-feab-48a1-aef5-27637b5d50ec button');\n",
              "      quickchartButtonEl.style.display =\n",
              "        google.colab.kernel.accessAllowed ? 'block' : 'none';\n",
              "    })();\n",
              "  </script>\n",
              "</div>\n",
              "    </div>\n",
              "  </div>\n"
            ]
          },
          "metadata": {},
          "execution_count": 132
        }
      ]
    },
    {
      "cell_type": "code",
      "source": [
        "data.isnull().sum()"
      ],
      "metadata": {
        "colab": {
          "base_uri": "https://localhost:8080/"
        },
        "id": "mMYvBelLevTt",
        "outputId": "dd4c2dc2-2363-47dc-edb0-5b6d4106018e"
      },
      "execution_count": null,
      "outputs": [
        {
          "output_type": "execute_result",
          "data": {
            "text/plain": [
              "Make                   0\n",
              "Name                   0\n",
              "Transmission           0\n",
              "Engine Type            0\n",
              "Engine Capacity(CC)    0\n",
              "Mileage(kms)           0\n",
              "City                   0\n",
              "Year                   0\n",
              "Price(PKR)             0\n",
              "dtype: int64"
            ]
          },
          "metadata": {},
          "execution_count": 133
        }
      ]
    },
    {
      "cell_type": "code",
      "source": [
        "import pandas as pd\n",
        "\n",
        "correlation_matrix = data.corr()\n",
        "\n",
        "# Select correlations of 'Price' with other attributes\n",
        "price_correlation = correlation_matrix['Price(PKR)']\n",
        "\n",
        "# Create a DataFrame for the correlation values\n",
        "correlation_table = pd.DataFrame({'Attribute': price_correlation.index, 'Correlation with Price': price_correlation.values})\n",
        "\n",
        "# Sort the table by absolute correlation values\n",
        "correlation_table['Abs Correlation'] = correlation_table['Correlation with Price'].abs()\n",
        "correlation_table = correlation_table.sort_values(by='Abs Correlation', ascending=False)\n",
        "\n",
        "# Display the correlation table\n",
        "print(correlation_table)\n"
      ],
      "metadata": {
        "colab": {
          "base_uri": "https://localhost:8080/"
        },
        "id": "KNw59xl5fKXa",
        "outputId": "53ddf2ad-65b1-48d6-bccc-3331cc0a8469"
      },
      "execution_count": null,
      "outputs": [
        {
          "output_type": "stream",
          "name": "stdout",
          "text": [
            "             Attribute  Correlation with Price  Abs Correlation\n",
            "3           Price(PKR)                1.000000         1.000000\n",
            "0  Engine Capacity(CC)                0.641922         0.641922\n",
            "2                 Year                0.381657         0.381657\n",
            "1         Mileage(kms)               -0.290595         0.290595\n"
          ]
        }
      ]
    },
    {
      "cell_type": "markdown",
      "source": [
        "# FIND THE MEAN AND MEDIAN OF THE PRICES OF THE CARS IN DATASET"
      ],
      "metadata": {
        "id": "F74IeBjsLPW0"
      }
    },
    {
      "cell_type": "code",
      "source": [
        "# Calculate the mean and median of the prices\n",
        "mean_price = data['Price(PKR)'].mean()\n",
        "median_price = data['Price(PKR)'].median()\n",
        "\n",
        "# Print the results\n",
        "print(f\"Mean Price in PKR: {mean_price:.2f}\")\n",
        "print(f\"Median Price in PKR: {median_price:.2f}\")"
      ],
      "metadata": {
        "colab": {
          "base_uri": "https://localhost:8080/"
        },
        "id": "u4wv-KEDLOks",
        "outputId": "8108e4e3-ea8c-4ce7-f33f-b7bc9f272fd8"
      },
      "execution_count": null,
      "outputs": [
        {
          "output_type": "stream",
          "name": "stdout",
          "text": [
            "Mean Price in PKR: 2546485.13\n",
            "Median Price in PKR: 2050000.00\n"
          ]
        }
      ]
    },
    {
      "cell_type": "markdown",
      "source": [
        "## WHAT IS THE DISTRIBUTION OF CARS FOR SALE IN TOP 10 CITIES OF PAKISTAN?\n"
      ],
      "metadata": {
        "id": "pFbGgF2QEJyA"
      }
    },
    {
      "cell_type": "code",
      "source": [
        "import pandas as pd\n",
        "import matplotlib.pyplot as plt\n",
        "import seaborn as sns\n",
        "\n",
        "# Load your dataset into a DataFrame\n",
        "#data = pd.read_csv('PakUsedCars.csv')\n",
        "\n",
        "# Get the count of cars for each city\n",
        "cities = data['City'].value_counts()\n",
        "\n",
        "# Create a bar plot of top 10 cities by car count\n",
        "plt.figure(figsize=(13, 8))\n",
        "sns.barplot(x=cities[:15].index, y=cities[:15].values)\n",
        "plt.ylabel('Cars For Sale')\n",
        "plt.xlabel('Top 15 Cities')\n",
        "plt.title('Top 15 Cities by Car Count', color='Red', fontsize=15)\n",
        "plt.xticks(rotation=90)\n",
        "plt.tight_layout()\n",
        "plt.show()"
      ],
      "metadata": {
        "colab": {
          "base_uri": "https://localhost:8080/",
          "height": 595
        },
        "id": "5a-pGpgQaNFX",
        "outputId": "baf1f633-0e83-45bf-e7b5-125f6cf97132"
      },
      "execution_count": null,
      "outputs": [
        {
          "output_type": "display_data",
          "data": {
            "text/plain": [
              "<Figure size 1300x800 with 1 Axes>"
            ],
            "image/png": "[encoded data removed]"
          },
          "metadata": {}
        }
      ]
    },
    {
      "cell_type": "markdown",
      "source": [
        "From the above barplot it can easily be understood that LAHORE has the highest number of cars for sale,followed by other cities like KARACHI,\n",
        " ISLAMABAD, RAWALPINDI etc. GUJRAT has the least number of cars for sale in the above plot."
      ],
      "metadata": {
        "id": "o5r2c2wuECk_"
      }
    },
    {
      "cell_type": "markdown",
      "source": [
        "# HOW IS THE DISTRIBUTION OF CARS ACROSS DIFFERENT PRICE RANGES?\n",
        "# ARE THERE ANY SPECIFIC PRICE RANGES THAT DOMINATE THE DATASET?"
      ],
      "metadata": {
        "id": "QC18dBd_LPy8"
      }
    },
    {
      "cell_type": "code",
      "source": [
        "import pandas as pd\n",
        "import matplotlib.pyplot as plt\n",
        "\n",
        "# Load your dataset into a DataFrame\n",
        "# data = pd.read_csv('PakUsedCars.csv')  # Replace with your actual dataset filename\n",
        "\n",
        "# Define the price range bins and labels\n",
        "bins = [0, 1000001, 2000001, 4000001, 6000001, 8000001, 10000001, 100000001]\n",
        "labels = ['Below 1 million', '1-2 million', '2-4 million', '4-6 million', '6-8 million', '8-10 million', '10+ million']\n",
        "\n",
        "# Calculate the car category counts without modifying the original DataFrame\n",
        "car_category_counts = pd.cut(data['Price(PKR)'], bins=bins, labels=labels).value_counts()\n",
        "\n",
        "# Create a bar graph for car categories based on price\n",
        "plt.bar(car_category_counts.index, car_category_counts.values)\n",
        "plt.xlabel('Car Categories')\n",
        "plt.ylabel('Count')\n",
        "plt.title('Car Categories Based on Price')\n",
        "plt.xticks(rotation=45)  # Rotate x-axis labels for better readability\n",
        "plt.show()\n"
      ],
      "metadata": {
        "colab": {
          "base_uri": "https://localhost:8080/",
          "height": 542
        },
        "id": "1vsmK5ktF7r5",
        "outputId": "742f690e-d1a1-4f9d-ab3c-bb854aef43bd"
      },
      "execution_count": null,
      "outputs": [
        {
          "output_type": "display_data",
          "data": {
            "text/plain": [
              "<Figure size 640x480 with 1 Axes>"
            ],
            "image/png": "[encoded data removed]"
          },
          "metadata": {}
        }
      ]
    },
    {
      "cell_type": "markdown",
      "source": [
        "It can be seen that most of the used cars lie in the range of 2-4 million followed by 1-2 million. Very few car prices lie in 6 to 8 million and none from 8 million plus."
      ],
      "metadata": {
        "id": "o7Ardn0oRK0T"
      }
    },
    {
      "cell_type": "code",
      "source": [
        "print(data)"
      ],
      "metadata": {
        "colab": {
          "base_uri": "https://localhost:8080/"
        },
        "id": "AviGPDw1b6mN",
        "outputId": "48a5feee-b3bc-4e9f-a9b6-12920ab73aaa"
      },
      "execution_count": null,
      "outputs": [
        {
          "output_type": "stream",
          "name": "stdout",
          "text": [
            "           Make                            Name Transmission Engine Type  \\\n",
            "0         Honda                BR-V   i-VTEC S     Automatic      Petrol   \n",
            "1        Toyota  Corolla   Altis Automatic 1.6     Automatic      Petrol   \n",
            "2        Toyota        Vitz   F Limited II 1.0     Automatic      Petrol   \n",
            "3      Daihatsu        Move   Custom X Limited     Automatic      Petrol   \n",
            "4        Toyota       Prado   TX L Package 2.7     Automatic      Petrol   \n",
            "...         ...                             ...          ...         ...   \n",
            "76685    Suzuki             Bolan   VX Euro II        Manual      Petrol   \n",
            "76686    Toyota      Prius   G LED Edition 1.8     Automatic      Petrol   \n",
            "76687       KIA                 Sportage   AWD     Automatic      Petrol   \n",
            "76688    Suzuki                       Bolan           Manual      Petrol   \n",
            "76689    Suzuki            Mehran   VX Euro II        Manual      Petrol   \n",
            "\n",
            "       Engine Capacity(CC)  Mileage(kms)        City  Year  Price(PKR)  \n",
            "0                   1500.0         41371     Karachi  2017     3150000  \n",
            "1                   1600.0          2460     Karachi  2021     3575000  \n",
            "2                   1000.0         67000     Karachi  2014     1955000  \n",
            "3                    660.0         64000      Lahore  2013     1450000  \n",
            "4                   2700.0         64000      Lahore  2016    19000000  \n",
            "...                    ...           ...         ...   ...         ...  \n",
            "76685                800.0         59500      Lahore  2016      890000  \n",
            "76686               1800.0        199000  Rawalpindi  2010     2700000  \n",
            "76687               2000.0           180      Lahore  2020     5900000  \n",
            "76688                800.0         16300  Rawalpindi  2019     1170000  \n",
            "76689                800.0         69000  Bahawalpur  2014      690000  \n",
            "\n",
            "[76687 rows x 9 columns]\n"
          ]
        }
      ]
    },
    {
      "cell_type": "markdown",
      "source": [
        "# HOW DOES PRICE DEPEND UPON THE OTHER ATTRIBUTES OF THE CAR?"
      ],
      "metadata": {
        "id": "CP77G889Z98J"
      }
    },
    {
      "cell_type": "code",
      "source": [
        "import pandas as pd\n",
        "\n",
        "correlation_matrix = data.corr()\n",
        "\n",
        "# Select correlations of 'Price' with other attributes\n",
        "price_correlation = correlation_matrix['Price(PKR)']\n",
        "\n",
        "# Create a DataFrame for the correlation values\n",
        "correlation_table = pd.DataFrame({'Attribute': price_correlation.index, 'Correlation with Price': price_correlation.values})\n",
        "\n",
        "# Sort the table by absolute correlation values\n",
        "correlation_table['Abs Correlation'] = correlation_table['Correlation with Price'].abs()\n",
        "correlation_table = correlation_table.sort_values(by='Abs Correlation', ascending=False)\n",
        "\n",
        "# Display the correlation table\n",
        "print(correlation_table)\n"
      ],
      "metadata": {
        "colab": {
          "base_uri": "https://localhost:8080/"
        },
        "id": "exzsRrZXSNDG",
        "outputId": "e8134af5-f843-4f90-d06e-97504be196e1"
      },
      "execution_count": null,
      "outputs": [
        {
          "output_type": "stream",
          "name": "stdout",
          "text": [
            "             Attribute  Correlation with Price  Abs Correlation\n",
            "3           Price(PKR)                1.000000         1.000000\n",
            "0  Engine Capacity(CC)                0.643801         0.643801\n",
            "2                 Year                0.239679         0.239679\n",
            "1         Mileage(kms)               -0.188238         0.188238\n"
          ]
        },
        {
          "output_type": "stream",
          "name": "stderr",
          "text": [
            "<ipython-input-47-ab50f84149f8>:3: FutureWarning: The default value of numeric_only in DataFrame.corr is deprecated. In a future version, it will default to False. Select only valid columns or specify the value of numeric_only to silence this warning.\n",
            "  correlation_matrix = data.corr()\n"
          ]
        }
      ]
    },
    {
      "cell_type": "markdown",
      "source": [
        "PRICE OF A CAR DEPENDS ON VARIOUS ATTRIBUTES SUCH AS ENGINE CAPACITY , YEAR OF MANUFACTURE , MILEAGE."
      ],
      "metadata": {
        "id": "D1uRdlhtvI2T"
      }
    },
    {
      "cell_type": "markdown",
      "source": [
        "# HOW DOES THE AVERAGE PRICE OF CARS VARY ACROSS DIFFERENT MANUFACTURERS?\n",
        "# ARE THERE ANY MANUFACTURERS THAT PRODUCE NOTABLY MORE EXPENSIVE OR AFFORDABLE CARS?"
      ],
      "metadata": {
        "id": "3yFX5PMTaMcV"
      }
    },
    {
      "cell_type": "code",
      "source": [
        "import pandas as pd\n",
        "import matplotlib.pyplot as plt\n",
        "\n",
        "# Load your dataset into a DataFrame\n",
        "# data = pd.read_csv('your_dataset.csv')  # Replace with your actual dataset filename\n",
        "\n",
        "# Check and clean the data (if needed)\n",
        "# For example, you can remove rows with missing values in the 'Name' column\n",
        "data = data.dropna(subset=['Name'])\n",
        "\n",
        "# Calculate the average car prices for each manufacturer while ignoring missing values in 'Engine Capacity(CC)'\n",
        "avg_prices = data.groupby('Name')['Price(PKR)'].mean()\n",
        "\n",
        "# Sort the manufacturers by average price and select the top 15\n",
        "sorted_avg_prices = avg_prices.sort_values(ascending=False)[:15]\n",
        "\n",
        "# Create a bar plot of average car prices for the top 15 manufacturers\n",
        "plt.figure(figsize=(12, 6))\n",
        "sorted_avg_prices.plot(kind='bar')\n",
        "plt.title('Top 15 Manufacturers by Average Car Prices (Ignoring Missing Engine Capacity)')\n",
        "plt.xlabel('Manufacturer')\n",
        "plt.ylabel('Average Price')\n",
        "plt.xticks(rotation=45, ha='right')\n",
        "plt.tight_layout()\n",
        "plt.show()\n",
        "\n",
        "\n",
        "\n",
        "\n",
        "\n"
      ],
      "metadata": {
        "colab": {
          "base_uri": "https://localhost:8080/",
          "height": 571
        },
        "id": "Lr1EI3_KaoF0",
        "outputId": "af809d13-b1b3-4c14-f0fc-411a60ad3b89"
      },
      "execution_count": null,
      "outputs": [
        {
          "output_type": "display_data",
          "data": {
            "text/plain": [
              "<Figure size 1200x600 with 1 Axes>"
            ],
            "image/png": "[encoded data removed]"
          },
          "metadata": {}
        }
      ]
    },
    {
      "cell_type": "markdown",
      "source": [
        "IT CAN BE SEEN THAT BENZ G IS THE MOST EXPENSIVE CAR MODEL IN THE DATASET."
      ],
      "metadata": {
        "id": "zUNOraWmbrwS"
      }
    },
    {
      "cell_type": "markdown",
      "source": [
        "# HOW DOES THE DISTRIBUTION OF CAR MILEAGE VARY ACROSS DIFFERENT CITIES?\n",
        "# ARE THERE ANY CITIES WHERE CARS TEND TO HAVE HIGHER OR LOWER MILEAGE?"
      ],
      "metadata": {
        "id": "NJWqO-6uptOx"
      }
    },
    {
      "cell_type": "code",
      "source": [
        "import pandas as pd\n",
        "import seaborn as sns\n",
        "import matplotlib.pyplot as plt\n",
        "\n",
        "# Load your dataset into a DataFrame\n",
        "#data = pd.read_csv('PakUsedCars.csv')  # Replace with your actual dataset filename\n",
        "\n",
        "# Calculate the top 10 cities by car count\n",
        "top_cities = data['City'].value_counts().head(10).index\n",
        "\n",
        "# Filter the dataset to include only data from the top 10 cities\n",
        "top_city_data = data[data['City'].isin(top_cities)][['City', 'Mileage(kms)']]\n",
        "\n",
        "# Create a box plot or violin plot to visualize mileage distribution in top 10 cities\n",
        "plt.figure(figsize=(12, 8))\n",
        "sns.boxplot(x='City', y='Mileage(kms)', data=top_city_data)\n",
        "plt.xticks(rotation=90)\n",
        "plt.ylabel('Mileage (kms)')\n",
        "plt.xlabel('City')\n",
        "plt.title('Distribution of Car Mileage in Top 10 Cities')\n",
        "plt.tight_layout()\n",
        "plt.show()"
      ],
      "metadata": {
        "colab": {
          "base_uri": "https://localhost:8080/",
          "height": 757
        },
        "id": "ST7E3uOHTfkH",
        "outputId": "c942bcde-e88a-439e-dfbf-cc32a355b49c"
      },
      "execution_count": null,
      "outputs": [
        {
          "output_type": "display_data",
          "data": {
            "text/plain": [
              "<Figure size 1200x800 with 1 Axes>"
            ],
            "image/png": "[encoded data removed]"
          },
          "metadata": {}
        }
      ]
    },
    {
      "cell_type": "markdown",
      "source": [
        "The box plot provides a visual summary of the distribution of car mileage in the top 10 cities.\n",
        " we can see middle line inside the box, box edges, and potential outliers (individual points outside the boxes) for each city.\n",
        "By comparing the boxes, you can make inferences about the variability and central tendency of car mileage in different cities.\n"
      ],
      "metadata": {
        "id": "mdpoZz2Iwz67"
      }
    },
    {
      "cell_type": "markdown",
      "source": [
        "# HOW IS THE DISTRIBUTION OF ENGINE TYPES AND TRANSMISSION TYPES WITHIN THE DATASET"
      ],
      "metadata": {
        "id": "yYc1YoinICzQ"
      }
    },
    {
      "cell_type": "code",
      "source": [
        "import pandas as pd\n",
        "import seaborn as sns\n",
        "import matplotlib.pyplot as plt\n",
        "\n",
        "# Load your dataset into a DataFrame\n",
        "#data = pd.read_csv('PakUsedCars.csv')\n",
        "\n",
        "# Create subplots for engine types and transmission types\n",
        "plt.figure(figsize=(12, 8))\n",
        "\n",
        "# Subplot for engine types distribution\n",
        "plt.subplot(2, 1, 1)\n",
        "sns.countplot(x='Engine Type', data=data)\n",
        "plt.xlabel('Engine Type')\n",
        "plt.ylabel('Count')\n",
        "plt.title('Distribution of Engine Types')\n",
        "\n",
        "# Subplot for transmission types distribution\n",
        "plt.subplot(2, 1, 2)\n",
        "sns.countplot(x='Transmission', data=data)\n",
        "plt.xlabel('Transmission Type')\n",
        "plt.ylabel('Count')\n",
        "plt.title('Distribution of Transmission Types')\n",
        "\n",
        "plt.tight_layout()\n",
        "plt.show()"
      ],
      "metadata": {
        "colab": {
          "base_uri": "https://localhost:8080/",
          "height": 757
        },
        "id": "YCBh47mmIDAt",
        "outputId": "092cda34-abd9-426c-9b60-0d4f3f2e6d86"
      },
      "execution_count": null,
      "outputs": [
        {
          "output_type": "display_data",
          "data": {
            "text/plain": [
              "<Figure size 1200x800 with 2 Axes>"
            ],
            "image/png": "[encoded data removed]"
          },
          "metadata": {}
        }
      ]
    },
    {
      "cell_type": "markdown",
      "source": [
        "FROM THE ABOVE PLOTS WE CAN INFER THAT MAXIMUM CARS IN THE DATASET HAVE PETROL AS THEIR FULE TYPE AND IN THE SECOND GRAPH CLEARLY DEPICTS THAT THE AMOUNT OF AUTOMATIC CARS ARE MORE THAN THE MANUAL IN THE DATASET."
      ],
      "metadata": {
        "id": "7NEFk2kwxe9d"
      }
    },
    {
      "cell_type": "markdown",
      "source": [
        "# WHICH TRANSMISSION TYPE IS CONSIDERED TO BE MORE EXPENSIVE-MANUAL OR AUTOMATIC?"
      ],
      "metadata": {
        "id": "cQYHEkNGLAfp"
      }
    },
    {
      "cell_type": "code",
      "source": [
        "import pandas as pd\n",
        "\n",
        "# Load your dataset into a DataFrame\n",
        "#data = pd.read_csv('PakUsedCars.csv')  # Replace with your actual dataset filename\n",
        "\n",
        "# Calculate average prices for manual and automatic transmission cars\n",
        "average_price_manual = data[data['Transmission'] == 'Manual']['Price(PKR)'].mean()\n",
        "average_price_automatic = data[data['Transmission'] == 'Automatic']['Price(PKR)'].mean()\n",
        "\n",
        "# Print the average prices\n",
        "print(f\"Average Price of Manual Transmission Cars in PKR: {average_price_manual:.2f}\")\n",
        "print(f\"Average Price of Automatic Transmission Cars in PKR: {average_price_automatic:.2f}\")"
      ],
      "metadata": {
        "colab": {
          "base_uri": "https://localhost:8080/"
        },
        "id": "OyjyamBaJlVm",
        "outputId": "3d61ab5c-3e69-4721-d2d2-6e7aaf4fa179"
      },
      "execution_count": null,
      "outputs": [
        {
          "output_type": "stream",
          "name": "stdout",
          "text": [
            "Average Price of Manual Transmission Cars in PKR: 1393260.59\n",
            "Average Price of Automatic Transmission Cars in PKR: 4227086.27\n"
          ]
        }
      ]
    },
    {
      "cell_type": "markdown",
      "source": [
        "HENCE AUTOMATIC CARS ARE CONSIDERED MORE EXPENSIVE THAN THE MANUAL CARS."
      ],
      "metadata": {
        "id": "BGSjhL4HyIBc"
      }
    },
    {
      "cell_type": "markdown",
      "source": [
        "# REGRESSION MODEL"
      ],
      "metadata": {
        "id": "BC4XitKJR3DH"
      }
    },
    {
      "cell_type": "markdown",
      "source": [
        "linear regression\n"
      ],
      "metadata": {
        "id": "MQ4U_MvYHplx"
      }
    },
    {
      "cell_type": "code",
      "source": [
        "import pandas as pd\n",
        "from sklearn.model_selection import train_test_split\n",
        "from sklearn.preprocessing import LabelEncoder\n",
        "from sklearn.linear_model import LinearRegression\n",
        "from sklearn.metrics import r2_score\n"
      ],
      "metadata": {
        "id": "kw4rndl9Ysyy"
      },
      "execution_count": null,
      "outputs": []
    },
    {
      "cell_type": "code",
      "source": [
        "label_encoder = LabelEncoder()\n"
      ],
      "metadata": {
        "id": "s3kThNIlHuyQ"
      },
      "execution_count": null,
      "outputs": []
    },
    {
      "cell_type": "code",
      "source": [
        "for col in data.select_dtypes(include=['object']).columns:\n",
        "    data[col] = label_encoder.fit_transform(data[col])"
      ],
      "metadata": {
        "id": "oHvlAE-LH4Kg"
      },
      "execution_count": null,
      "outputs": []
    },
    {
      "cell_type": "code",
      "source": [
        "X = data.drop('Price(PKR)', axis=1)\n",
        "y = data['Price(PKR)']"
      ],
      "metadata": {
        "id": "uscghcknH7Qk"
      },
      "execution_count": null,
      "outputs": []
    },
    {
      "cell_type": "code",
      "source": [
        "X_train, X_test, y_train, y_test = train_test_split(X, y, test_size=0.2, random_state=42)\n"
      ],
      "metadata": {
        "id": "WwmRqziCH-ke"
      },
      "execution_count": null,
      "outputs": []
    },
    {
      "cell_type": "code",
      "source": [
        "linear_model = LinearRegression()"
      ],
      "metadata": {
        "id": "KOQKOw9gICbw"
      },
      "execution_count": null,
      "outputs": []
    },
    {
      "cell_type": "code",
      "source": [
        "linear_model.fit(X_train, y_train)"
      ],
      "metadata": {
        "colab": {
          "base_uri": "https://localhost:8080/",
          "height": 75
        },
        "id": "kXEN7yN6IGCp",
        "outputId": "c51e69f9-b215-4755-e975-350988c931cc"
      },
      "execution_count": null,
      "outputs": [
        {
          "output_type": "execute_result",
          "data": {
            "text/plain": [
              "LinearRegression()"
            ],
            "text/html": [
              "<style>#sk-container-id-1 {color: black;background-color: white;}#sk-container-id-1 pre{padding: 0;}#sk-container-id-1 div.sk-toggleable {background-color: white;}#sk-container-id-1 label.sk-toggleable__label {cursor: pointer;display: block;width: 100%;margin-bottom: 0;padding: 0.3em;box-sizing: border-box;text-align: center;}#sk-container-id-1 label.sk-toggleable__label-arrow:before {content: \"▸\";float: left;margin-right: 0.25em;color: #696969;}#sk-container-id-1 label.sk-toggleable__label-arrow:hover:before {color: black;}#sk-container-id-1 div.sk-estimator:hover label.sk-toggleable__label-arrow:before {color: black;}#sk-container-id-1 div.sk-toggleable__content {max-height: 0;max-width: 0;overflow: hidden;text-align: left;background-color: #f0f8ff;}#sk-container-id-1 div.sk-toggleable__content pre {margin: 0.2em;color: black;border-radius: 0.25em;background-color: #f0f8ff;}#sk-container-id-1 input.sk-toggleable__control:checked~div.sk-toggleable__content {max-height: 200px;max-width: 100%;overflow: auto;}#sk-container-id-1 input.sk-toggleable__control:checked~label.sk-toggleable__label-arrow:before {content: \"▾\";}#sk-container-id-1 div.sk-estimator input.sk-toggleable__control:checked~label.sk-toggleable__label {background-color: #d4ebff;}#sk-container-id-1 div.sk-label input.sk-toggleable__control:checked~label.sk-toggleable__label {background-color: #d4ebff;}#sk-container-id-1 input.sk-hidden--visually {border: 0;clip: rect(1px 1px 1px 1px);clip: rect(1px, 1px, 1px, 1px);height: 1px;margin: -1px;overflow: hidden;padding: 0;position: absolute;width: 1px;}#sk-container-id-1 div.sk-estimator {font-family: monospace;background-color: #f0f8ff;border: 1px dotted black;border-radius: 0.25em;box-sizing: border-box;margin-bottom: 0.5em;}#sk-container-id-1 div.sk-estimator:hover {background-color: #d4ebff;}#sk-container-id-1 div.sk-parallel-item::after {content: \"\";width: 100%;border-bottom: 1px solid gray;flex-grow: 1;}#sk-container-id-1 div.sk-label:hover label.sk-toggleable__label {background-color: #d4ebff;}#sk-container-id-1 div.sk-serial::before {content: \"\";position: absolute;border-left: 1px solid gray;box-sizing: border-box;top: 0;bottom: 0;left: 50%;z-index: 0;}#sk-container-id-1 div.sk-serial {display: flex;flex-direction: column;align-items: center;background-color: white;padding-right: 0.2em;padding-left: 0.2em;position: relative;}#sk-container-id-1 div.sk-item {position: relative;z-index: 1;}#sk-container-id-1 div.sk-parallel {display: flex;align-items: stretch;justify-content: center;background-color: white;position: relative;}#sk-container-id-1 div.sk-item::before, #sk-container-id-1 div.sk-parallel-item::before {content: \"\";position: absolute;border-left: 1px solid gray;box-sizing: border-box;top: 0;bottom: 0;left: 50%;z-index: -1;}#sk-container-id-1 div.sk-parallel-item {display: flex;flex-direction: column;z-index: 1;position: relative;background-color: white;}#sk-container-id-1 div.sk-parallel-item:first-child::after {align-self: flex-end;width: 50%;}#sk-container-id-1 div.sk-parallel-item:last-child::after {align-self: flex-start;width: 50%;}#sk-container-id-1 div.sk-parallel-item:only-child::after {width: 0;}#sk-container-id-1 div.sk-dashed-wrapped {border: 1px dashed gray;margin: 0 0.4em 0.5em 0.4em;box-sizing: border-box;padding-bottom: 0.4em;background-color: white;}#sk-container-id-1 div.sk-label label {font-family: monospace;font-weight: bold;display: inline-block;line-height: 1.2em;}#sk-container-id-1 div.sk-label-container {text-align: center;}#sk-container-id-1 div.sk-container {/* jupyter's `normalize.less` sets `[hidden] { display: none; }` but bootstrap.min.css set `[hidden] { display: none !important; }` so we also need the `!important` here to be able to override the default hidden behavior on the sphinx rendered scikit-learn.org. See: https://github.com/scikit-learn/scikit-learn/issues/21755 */display: inline-block !important;position: relative;}#sk-container-id-1 div.sk-text-repr-fallback {display: none;}</style><div id=\"sk-container-id-1\" class=\"sk-top-container\"><div class=\"sk-text-repr-fallback\"><pre>LinearRegression()</pre><b>In a Jupyter environment, please rerun this cell to show the HTML representation or trust the notebook. <br />On GitHub, the HTML representation is unable to render, please try loading this page with nbviewer.org.</b></div><div class=\"sk-container\" hidden><div class=\"sk-item\"><div class=\"sk-estimator sk-toggleable\"><input class=\"sk-toggleable__control sk-hidden--visually\" id=\"sk-estimator-id-1\" type=\"checkbox\" checked><label for=\"sk-estimator-id-1\" class=\"sk-toggleable__label sk-toggleable__label-arrow\">LinearRegression</label><div class=\"sk-toggleable__content\"><pre>LinearRegression()</pre></div></div></div></div></div>"
            ]
          },
          "metadata": {},
          "execution_count": 32
        }
      ]
    },
    {
      "cell_type": "code",
      "source": [
        "train_score = linear_model.score(X_train, y_train)\n",
        "test_score = linear_model.score(X_test, y_test)\n"
      ],
      "metadata": {
        "id": "rU3jFwBwIMjU"
      },
      "execution_count": null,
      "outputs": []
    },
    {
      "cell_type": "code",
      "source": [
        "# Get coefficients and intercept\n",
        "coefficients = linear_model.coef_\n",
        "intercept = linear_model.intercept_\n",
        "\n",
        "# Display equation of the model\n",
        "equation = f\"y = {intercept:.2f} + \"\n",
        "for i, coeff in enumerate(coefficients):\n",
        "    equation += f\"{coeff:.2f} * {X_test.columns[i]} + \"\n",
        "equation = equation[:-2]  # Remove the last '+'\n",
        "print(\"Equation:\", equation)"
      ],
      "metadata": {
        "colab": {
          "base_uri": "https://localhost:8080/"
        },
        "id": "f62WABlpgWUL",
        "outputId": "17e410a3-caae-4486-bdb6-29dc47d5f724"
      },
      "execution_count": null,
      "outputs": [
        {
          "output_type": "stream",
          "name": "stdout",
          "text": [
            "Equation: y = -2310.73 + 0.00 * Make + 0.00 * Name + -6.52 * Transmission + -0.32 * Engine Type + 0.02 * Engine Capacity(CC) + -0.00 * Mileage(kms) + -0.00 * City + 1.15 * Year \n"
          ]
        }
      ]
    },
    {
      "cell_type": "code",
      "source": [
        "print(\"Linear Regression Model\")\n",
        "print(f\"Train Score: {train_score:.2f}\")\n",
        "print(f\"Test Score: {test_score:.2f}\")"
      ],
      "metadata": {
        "colab": {
          "base_uri": "https://localhost:8080/"
        },
        "id": "3MJ3vPv5IPiX",
        "outputId": "3b6c45a0-bad2-4b64-d400-05152b58fc96"
      },
      "execution_count": null,
      "outputs": [
        {
          "output_type": "stream",
          "name": "stdout",
          "text": [
            "Linear Regression Model\n",
            "Train Score: 0.70\n",
            "Test Score: 0.71\n"
          ]
        }
      ]
    },
    {
      "cell_type": "markdown",
      "source": [
        "THE TRAIN SCORE FOR THE LINEAR REGRESSION MODEL IS - 70%\n",
        "THE TEST SCORE FOR THE LINEAR REGRESSION MODEL IS - 71%"
      ],
      "metadata": {
        "id": "eq513Fp6IUMR"
      }
    },
    {
      "cell_type": "markdown",
      "source": [
        "DECISION TREE\n"
      ],
      "metadata": {
        "id": "KqmkxrtAIl9w"
      }
    },
    {
      "cell_type": "code",
      "source": [
        "X_train, X_test, y_train, y_test = train_test_split(X, y, test_size=0.2, random_state=42)\n"
      ],
      "metadata": {
        "id": "Lpk5Y4V7I237"
      },
      "execution_count": null,
      "outputs": []
    },
    {
      "cell_type": "code",
      "source": [
        "from sklearn.tree import DecisionTreeRegressor\n",
        "decision_tree_model = DecisionTreeRegressor(random_state=42)"
      ],
      "metadata": {
        "id": "UPoBbjsrJO64"
      },
      "execution_count": null,
      "outputs": []
    },
    {
      "cell_type": "code",
      "source": [
        "decision_tree_model.fit(X_train, y_train)"
      ],
      "metadata": {
        "colab": {
          "base_uri": "https://localhost:8080/",
          "height": 75
        },
        "id": "jdLzXC24JV_u",
        "outputId": "09ac09da-9129-4fe6-8860-66a7e8e77af1"
      },
      "execution_count": null,
      "outputs": [
        {
          "output_type": "execute_result",
          "data": {
            "text/plain": [
              "DecisionTreeRegressor(random_state=42)"
            ],
            "text/html": [
              "<style>#sk-container-id-3 {color: black;background-color: white;}#sk-container-id-3 pre{padding: 0;}#sk-container-id-3 div.sk-toggleable {background-color: white;}#sk-container-id-3 label.sk-toggleable__label {cursor: pointer;display: block;width: 100%;margin-bottom: 0;padding: 0.3em;box-sizing: border-box;text-align: center;}#sk-container-id-3 label.sk-toggleable__label-arrow:before {content: \"▸\";float: left;margin-right: 0.25em;color: #696969;}#sk-container-id-3 label.sk-toggleable__label-arrow:hover:before {color: black;}#sk-container-id-3 div.sk-estimator:hover label.sk-toggleable__label-arrow:before {color: black;}#sk-container-id-3 div.sk-toggleable__content {max-height: 0;max-width: 0;overflow: hidden;text-align: left;background-color: #f0f8ff;}#sk-container-id-3 div.sk-toggleable__content pre {margin: 0.2em;color: black;border-radius: 0.25em;background-color: #f0f8ff;}#sk-container-id-3 input.sk-toggleable__control:checked~div.sk-toggleable__content {max-height: 200px;max-width: 100%;overflow: auto;}#sk-container-id-3 input.sk-toggleable__control:checked~label.sk-toggleable__label-arrow:before {content: \"▾\";}#sk-container-id-3 div.sk-estimator input.sk-toggleable__control:checked~label.sk-toggleable__label {background-color: #d4ebff;}#sk-container-id-3 div.sk-label input.sk-toggleable__control:checked~label.sk-toggleable__label {background-color: #d4ebff;}#sk-container-id-3 input.sk-hidden--visually {border: 0;clip: rect(1px 1px 1px 1px);clip: rect(1px, 1px, 1px, 1px);height: 1px;margin: -1px;overflow: hidden;padding: 0;position: absolute;width: 1px;}#sk-container-id-3 div.sk-estimator {font-family: monospace;background-color: #f0f8ff;border: 1px dotted black;border-radius: 0.25em;box-sizing: border-box;margin-bottom: 0.5em;}#sk-container-id-3 div.sk-estimator:hover {background-color: #d4ebff;}#sk-container-id-3 div.sk-parallel-item::after {content: \"\";width: 100%;border-bottom: 1px solid gray;flex-grow: 1;}#sk-container-id-3 div.sk-label:hover label.sk-toggleable__label {background-color: #d4ebff;}#sk-container-id-3 div.sk-serial::before {content: \"\";position: absolute;border-left: 1px solid gray;box-sizing: border-box;top: 0;bottom: 0;left: 50%;z-index: 0;}#sk-container-id-3 div.sk-serial {display: flex;flex-direction: column;align-items: center;background-color: white;padding-right: 0.2em;padding-left: 0.2em;position: relative;}#sk-container-id-3 div.sk-item {position: relative;z-index: 1;}#sk-container-id-3 div.sk-parallel {display: flex;align-items: stretch;justify-content: center;background-color: white;position: relative;}#sk-container-id-3 div.sk-item::before, #sk-container-id-3 div.sk-parallel-item::before {content: \"\";position: absolute;border-left: 1px solid gray;box-sizing: border-box;top: 0;bottom: 0;left: 50%;z-index: -1;}#sk-container-id-3 div.sk-parallel-item {display: flex;flex-direction: column;z-index: 1;position: relative;background-color: white;}#sk-container-id-3 div.sk-parallel-item:first-child::after {align-self: flex-end;width: 50%;}#sk-container-id-3 div.sk-parallel-item:last-child::after {align-self: flex-start;width: 50%;}#sk-container-id-3 div.sk-parallel-item:only-child::after {width: 0;}#sk-container-id-3 div.sk-dashed-wrapped {border: 1px dashed gray;margin: 0 0.4em 0.5em 0.4em;box-sizing: border-box;padding-bottom: 0.4em;background-color: white;}#sk-container-id-3 div.sk-label label {font-family: monospace;font-weight: bold;display: inline-block;line-height: 1.2em;}#sk-container-id-3 div.sk-label-container {text-align: center;}#sk-container-id-3 div.sk-container {/* jupyter's `normalize.less` sets `[hidden] { display: none; }` but bootstrap.min.css set `[hidden] { display: none !important; }` so we also need the `!important` here to be able to override the default hidden behavior on the sphinx rendered scikit-learn.org. See: https://github.com/scikit-learn/scikit-learn/issues/21755 */display: inline-block !important;position: relative;}#sk-container-id-3 div.sk-text-repr-fallback {display: none;}</style><div id=\"sk-container-id-3\" class=\"sk-top-container\"><div class=\"sk-text-repr-fallback\"><pre>DecisionTreeRegressor(random_state=42)</pre><b>In a Jupyter environment, please rerun this cell to show the HTML representation or trust the notebook. <br />On GitHub, the HTML representation is unable to render, please try loading this page with nbviewer.org.</b></div><div class=\"sk-container\" hidden><div class=\"sk-item\"><div class=\"sk-estimator sk-toggleable\"><input class=\"sk-toggleable__control sk-hidden--visually\" id=\"sk-estimator-id-3\" type=\"checkbox\" checked><label for=\"sk-estimator-id-3\" class=\"sk-toggleable__label sk-toggleable__label-arrow\">DecisionTreeRegressor</label><div class=\"sk-toggleable__content\"><pre>DecisionTreeRegressor(random_state=42)</pre></div></div></div></div></div>"
            ]
          },
          "metadata": {},
          "execution_count": 41
        }
      ]
    },
    {
      "cell_type": "code",
      "source": [
        "train_score = decision_tree_model.score(X_train, y_train)\n",
        "test_score = decision_tree_model.score(X_test, y_test)"
      ],
      "metadata": {
        "id": "sW90_D_QJdvK"
      },
      "execution_count": null,
      "outputs": []
    },
    {
      "cell_type": "code",
      "source": [
        "print(\"Decision Tree Regression Model\")\n",
        "print(f\"Train Score: {train_score:.2f}\")\n",
        "print(f\"Test Score: {test_score:.2f}\")\n",
        "\n",
        "\n",
        "\n",
        "\n",
        "\n"
      ],
      "metadata": {
        "colab": {
          "base_uri": "https://localhost:8080/"
        },
        "id": "wHBJiSAqJiJz",
        "outputId": "7be1b854-cc83-4a29-d086-43bd0f74ef0a"
      },
      "execution_count": null,
      "outputs": [
        {
          "output_type": "stream",
          "name": "stdout",
          "text": [
            "Decision Tree Regression Model\n",
            "Train Score: 1.00\n",
            "Test Score: 0.94\n"
          ]
        }
      ]
    },
    {
      "cell_type": "markdown",
      "source": [
        "THE TRAIN SCORE FOR A DECISION TREE REGRESSOR IS 100%\n",
        "AND THE TEST SCORE IS 94%"
      ],
      "metadata": {
        "id": "KEWVE8r6J3O8"
      }
    },
    {
      "cell_type": "markdown",
      "source": [
        "RANDOM FOREST REGRESSOR\n"
      ],
      "metadata": {
        "id": "fy25hS-7KD4L"
      }
    },
    {
      "cell_type": "code",
      "source": [
        "import pandas as pd\n",
        "from sklearn.ensemble import RandomForestRegressor\n",
        "from sklearn.model_selection import train_test_split"
      ],
      "metadata": {
        "id": "Oz6FAptxfgGH"
      },
      "execution_count": null,
      "outputs": []
    },
    {
      "cell_type": "code",
      "source": [
        "X_train, X_test, y_train, y_test = train_test_split(X, y, test_size=0.2, random_state=42)"
      ],
      "metadata": {
        "id": "LpHwDUMpKpsM"
      },
      "execution_count": null,
      "outputs": []
    },
    {
      "cell_type": "code",
      "source": [
        "random_forest_model = RandomForestRegressor(n_estimators=10 ,random_state=42, max_depth=10)\n",
        "#random_forest_model = RandomForestRegressor(random_state=42)\n"
      ],
      "metadata": {
        "id": "AMN1FUipKrER"
      },
      "execution_count": null,
      "outputs": []
    },
    {
      "cell_type": "code",
      "source": [
        "random_forest_model.fit(X_train, y_train)"
      ],
      "metadata": {
        "colab": {
          "base_uri": "https://localhost:8080/",
          "height": 75
        },
        "id": "PuSI-P81Ku8P",
        "outputId": "4bad36b0-d1d6-4182-ad3a-ed354af7262d"
      },
      "execution_count": null,
      "outputs": [
        {
          "output_type": "execute_result",
          "data": {
            "text/plain": [
              "RandomForestRegressor(max_depth=10, n_estimators=10, random_state=42)"
            ],
            "text/html": [
              "<style>#sk-container-id-4 {color: black;background-color: white;}#sk-container-id-4 pre{padding: 0;}#sk-container-id-4 div.sk-toggleable {background-color: white;}#sk-container-id-4 label.sk-toggleable__label {cursor: pointer;display: block;width: 100%;margin-bottom: 0;padding: 0.3em;box-sizing: border-box;text-align: center;}#sk-container-id-4 label.sk-toggleable__label-arrow:before {content: \"▸\";float: left;margin-right: 0.25em;color: #696969;}#sk-container-id-4 label.sk-toggleable__label-arrow:hover:before {color: black;}#sk-container-id-4 div.sk-estimator:hover label.sk-toggleable__label-arrow:before {color: black;}#sk-container-id-4 div.sk-toggleable__content {max-height: 0;max-width: 0;overflow: hidden;text-align: left;background-color: #f0f8ff;}#sk-container-id-4 div.sk-toggleable__content pre {margin: 0.2em;color: black;border-radius: 0.25em;background-color: #f0f8ff;}#sk-container-id-4 input.sk-toggleable__control:checked~div.sk-toggleable__content {max-height: 200px;max-width: 100%;overflow: auto;}#sk-container-id-4 input.sk-toggleable__control:checked~label.sk-toggleable__label-arrow:before {content: \"▾\";}#sk-container-id-4 div.sk-estimator input.sk-toggleable__control:checked~label.sk-toggleable__label {background-color: #d4ebff;}#sk-container-id-4 div.sk-label input.sk-toggleable__control:checked~label.sk-toggleable__label {background-color: #d4ebff;}#sk-container-id-4 input.sk-hidden--visually {border: 0;clip: rect(1px 1px 1px 1px);clip: rect(1px, 1px, 1px, 1px);height: 1px;margin: -1px;overflow: hidden;padding: 0;position: absolute;width: 1px;}#sk-container-id-4 div.sk-estimator {font-family: monospace;background-color: #f0f8ff;border: 1px dotted black;border-radius: 0.25em;box-sizing: border-box;margin-bottom: 0.5em;}#sk-container-id-4 div.sk-estimator:hover {background-color: #d4ebff;}#sk-container-id-4 div.sk-parallel-item::after {content: \"\";width: 100%;border-bottom: 1px solid gray;flex-grow: 1;}#sk-container-id-4 div.sk-label:hover label.sk-toggleable__label {background-color: #d4ebff;}#sk-container-id-4 div.sk-serial::before {content: \"\";position: absolute;border-left: 1px solid gray;box-sizing: border-box;top: 0;bottom: 0;left: 50%;z-index: 0;}#sk-container-id-4 div.sk-serial {display: flex;flex-direction: column;align-items: center;background-color: white;padding-right: 0.2em;padding-left: 0.2em;position: relative;}#sk-container-id-4 div.sk-item {position: relative;z-index: 1;}#sk-container-id-4 div.sk-parallel {display: flex;align-items: stretch;justify-content: center;background-color: white;position: relative;}#sk-container-id-4 div.sk-item::before, #sk-container-id-4 div.sk-parallel-item::before {content: \"\";position: absolute;border-left: 1px solid gray;box-sizing: border-box;top: 0;bottom: 0;left: 50%;z-index: -1;}#sk-container-id-4 div.sk-parallel-item {display: flex;flex-direction: column;z-index: 1;position: relative;background-color: white;}#sk-container-id-4 div.sk-parallel-item:first-child::after {align-self: flex-end;width: 50%;}#sk-container-id-4 div.sk-parallel-item:last-child::after {align-self: flex-start;width: 50%;}#sk-container-id-4 div.sk-parallel-item:only-child::after {width: 0;}#sk-container-id-4 div.sk-dashed-wrapped {border: 1px dashed gray;margin: 0 0.4em 0.5em 0.4em;box-sizing: border-box;padding-bottom: 0.4em;background-color: white;}#sk-container-id-4 div.sk-label label {font-family: monospace;font-weight: bold;display: inline-block;line-height: 1.2em;}#sk-container-id-4 div.sk-label-container {text-align: center;}#sk-container-id-4 div.sk-container {/* jupyter's `normalize.less` sets `[hidden] { display: none; }` but bootstrap.min.css set `[hidden] { display: none !important; }` so we also need the `!important` here to be able to override the default hidden behavior on the sphinx rendered scikit-learn.org. See: https://github.com/scikit-learn/scikit-learn/issues/21755 */display: inline-block !important;position: relative;}#sk-container-id-4 div.sk-text-repr-fallback {display: none;}</style><div id=\"sk-container-id-4\" class=\"sk-top-container\"><div class=\"sk-text-repr-fallback\"><pre>RandomForestRegressor(max_depth=10, n_estimators=10, random_state=42)</pre><b>In a Jupyter environment, please rerun this cell to show the HTML representation or trust the notebook. <br />On GitHub, the HTML representation is unable to render, please try loading this page with nbviewer.org.</b></div><div class=\"sk-container\" hidden><div class=\"sk-item\"><div class=\"sk-estimator sk-toggleable\"><input class=\"sk-toggleable__control sk-hidden--visually\" id=\"sk-estimator-id-4\" type=\"checkbox\" checked><label for=\"sk-estimator-id-4\" class=\"sk-toggleable__label sk-toggleable__label-arrow\">RandomForestRegressor</label><div class=\"sk-toggleable__content\"><pre>RandomForestRegressor(max_depth=10, n_estimators=10, random_state=42)</pre></div></div></div></div></div>"
            ]
          },
          "metadata": {},
          "execution_count": 48
        }
      ]
    },
    {
      "cell_type": "code",
      "source": [
        "train_score = random_forest_model.score(X_train, y_train)\n",
        "test_score = random_forest_model.score(X_test, y_test)"
      ],
      "metadata": {
        "id": "_wQZId6MK_1B"
      },
      "execution_count": null,
      "outputs": []
    },
    {
      "cell_type": "code",
      "source": [
        "print(\"Random Forest Regression Model\")\n",
        "print(f\"Train Score: {train_score:.2f}\")\n",
        "print(f\"Test Score: {test_score:.2f}\")\n"
      ],
      "metadata": {
        "colab": {
          "base_uri": "https://localhost:8080/"
        },
        "id": "oXq9kMllLEDV",
        "outputId": "fcc23fe0-ab27-4d24-8a10-6200eb1a3252"
      },
      "execution_count": null,
      "outputs": [
        {
          "output_type": "stream",
          "name": "stdout",
          "text": [
            "Random Forest Regression Model\n",
            "Train Score: 0.97\n",
            "Test Score: 0.95\n"
          ]
        }
      ]
    },
    {
      "cell_type": "markdown",
      "source": [
        "THE TRAIN SCORE FOR RANDOM FOREST REGRESSOR IS 97%\n",
        "THE TEST SCORE FOR RANDOM FOREST REGRESSOR IS 95%"
      ],
      "metadata": {
        "id": "YxyJWD-FLq0T"
      }
    },
    {
      "cell_type": "markdown",
      "source": [
        "KNN\n"
      ],
      "metadata": {
        "id": "9MhACHeyL2pr"
      }
    },
    {
      "cell_type": "code",
      "source": [
        "\n",
        "from sklearn.model_selection import train_test_split\n",
        "from sklearn.preprocessing import LabelEncoder, StandardScaler\n",
        "from sklearn.ensemble import GradientBoostingRegressor\n",
        "from sklearn.neighbors import KNeighborsRegressor\n",
        "from sklearn.metrics import r2_score\n",
        "\n",
        "\n",
        "scaler = StandardScaler()\n",
        "X_train_scaled = scaler.fit_transform(X_train)\n",
        "X_test_scaled = scaler.transform(X_test)"
      ],
      "metadata": {
        "id": "0IYmwqNNOTGp"
      },
      "execution_count": null,
      "outputs": []
    },
    {
      "cell_type": "code",
      "source": [
        "print(X_train_scaled[:10, :])"
      ],
      "metadata": {
        "id": "UNcoFsxoOTRW",
        "colab": {
          "base_uri": "https://localhost:8080/"
        },
        "outputId": "59090d87-ce20-4cb1-a7ab-f0c7488d4c9c"
      },
      "execution_count": null,
      "outputs": [
        {
          "output_type": "stream",
          "name": "stdout",
          "text": [
            "[[ 7.08393222e-01 -1.50326911e-01  1.11649574e+00  3.13002958e-01\n",
            "  -7.06924412e-01  2.35071609e-01  1.28129339e+00  1.30762628e-01]\n",
            " [-2.64252485e-01  1.48590439e+00 -8.95659482e-01  3.13002958e-01\n",
            "  -1.27515201e+00  1.86709678e+00  2.24111586e+00 -3.17349654e-01]\n",
            " [-1.23689819e+00 -6.63909680e-01 -8.95659482e-01  3.13002958e-01\n",
            "   6.30081691e-01 -2.38215692e-01 -2.93415353e-01  2.80133389e-01]\n",
            " [ 7.08393222e-01 -1.31493009e+00  1.11649574e+00  3.13002958e-01\n",
            "  -2.05547123e-01  1.05108420e+00  2.01493109e-01 -1.21357422e+00]\n",
            " [ 7.08393222e-01  6.22217311e-01  1.11649574e+00  3.13002958e-01\n",
            "  -1.04117594e+00 -2.54535943e-01 -1.02827943e+00 -9.14832696e-01]\n",
            " [ 7.08393222e-01 -2.76228399e-03 -8.95659482e-01  3.13002958e-01\n",
            "  -1.27515201e+00 -2.95336573e-01  1.92617411e+00  7.28245671e-01]\n",
            " [ 7.73236269e-01 -3.67333715e-01  1.11649574e+00  3.13002958e-01\n",
            "  -2.05547123e-01  3.32993119e-01 -2.93415353e-01  2.80133389e-01]\n",
            " [ 7.73236269e-01 -3.93374531e-01 -8.95659482e-01  3.13002958e-01\n",
            "  -2.05547123e-01 -4.01418209e-01 -2.93415353e-01  1.02698719e+00]\n",
            " [ 7.73236269e-01  1.64504271e+00 -8.95659482e-01 -3.47872235e+00\n",
            "   2.63559084e+00  1.86709678e+00  1.40127120e+00 -2.55791106e+00]\n",
            " [ 7.08393222e-01  5.22394181e-01  1.11649574e+00  3.13002958e-01\n",
            "   2.95830165e-01  2.32406383e+00  7.26396024e-01 -9.14832696e-01]]\n"
          ]
        }
      ]
    },
    {
      "cell_type": "code",
      "source": [
        "knn_model = KNeighborsRegressor()\n"
      ],
      "metadata": {
        "id": "jGKk367vPPap"
      },
      "execution_count": null,
      "outputs": []
    },
    {
      "cell_type": "code",
      "source": [
        "knn_model.fit(X_train_scaled, y_train)\n"
      ],
      "metadata": {
        "colab": {
          "base_uri": "https://localhost:8080/",
          "height": 75
        },
        "id": "T0pqWpJfOT86",
        "outputId": "ca25c158-74af-434f-cc61-321125e9a6a4"
      },
      "execution_count": null,
      "outputs": [
        {
          "output_type": "execute_result",
          "data": {
            "text/plain": [
              "KNeighborsRegressor()"
            ],
            "text/html": [
              "<style>#sk-container-id-5 {color: black;background-color: white;}#sk-container-id-5 pre{padding: 0;}#sk-container-id-5 div.sk-toggleable {background-color: white;}#sk-container-id-5 label.sk-toggleable__label {cursor: pointer;display: block;width: 100%;margin-bottom: 0;padding: 0.3em;box-sizing: border-box;text-align: center;}#sk-container-id-5 label.sk-toggleable__label-arrow:before {content: \"▸\";float: left;margin-right: 0.25em;color: #696969;}#sk-container-id-5 label.sk-toggleable__label-arrow:hover:before {color: black;}#sk-container-id-5 div.sk-estimator:hover label.sk-toggleable__label-arrow:before {color: black;}#sk-container-id-5 div.sk-toggleable__content {max-height: 0;max-width: 0;overflow: hidden;text-align: left;background-color: #f0f8ff;}#sk-container-id-5 div.sk-toggleable__content pre {margin: 0.2em;color: black;border-radius: 0.25em;background-color: #f0f8ff;}#sk-container-id-5 input.sk-toggleable__control:checked~div.sk-toggleable__content {max-height: 200px;max-width: 100%;overflow: auto;}#sk-container-id-5 input.sk-toggleable__control:checked~label.sk-toggleable__label-arrow:before {content: \"▾\";}#sk-container-id-5 div.sk-estimator input.sk-toggleable__control:checked~label.sk-toggleable__label {background-color: #d4ebff;}#sk-container-id-5 div.sk-label input.sk-toggleable__control:checked~label.sk-toggleable__label {background-color: #d4ebff;}#sk-container-id-5 input.sk-hidden--visually {border: 0;clip: rect(1px 1px 1px 1px);clip: rect(1px, 1px, 1px, 1px);height: 1px;margin: -1px;overflow: hidden;padding: 0;position: absolute;width: 1px;}#sk-container-id-5 div.sk-estimator {font-family: monospace;background-color: #f0f8ff;border: 1px dotted black;border-radius: 0.25em;box-sizing: border-box;margin-bottom: 0.5em;}#sk-container-id-5 div.sk-estimator:hover {background-color: #d4ebff;}#sk-container-id-5 div.sk-parallel-item::after {content: \"\";width: 100%;border-bottom: 1px solid gray;flex-grow: 1;}#sk-container-id-5 div.sk-label:hover label.sk-toggleable__label {background-color: #d4ebff;}#sk-container-id-5 div.sk-serial::before {content: \"\";position: absolute;border-left: 1px solid gray;box-sizing: border-box;top: 0;bottom: 0;left: 50%;z-index: 0;}#sk-container-id-5 div.sk-serial {display: flex;flex-direction: column;align-items: center;background-color: white;padding-right: 0.2em;padding-left: 0.2em;position: relative;}#sk-container-id-5 div.sk-item {position: relative;z-index: 1;}#sk-container-id-5 div.sk-parallel {display: flex;align-items: stretch;justify-content: center;background-color: white;position: relative;}#sk-container-id-5 div.sk-item::before, #sk-container-id-5 div.sk-parallel-item::before {content: \"\";position: absolute;border-left: 1px solid gray;box-sizing: border-box;top: 0;bottom: 0;left: 50%;z-index: -1;}#sk-container-id-5 div.sk-parallel-item {display: flex;flex-direction: column;z-index: 1;position: relative;background-color: white;}#sk-container-id-5 div.sk-parallel-item:first-child::after {align-self: flex-end;width: 50%;}#sk-container-id-5 div.sk-parallel-item:last-child::after {align-self: flex-start;width: 50%;}#sk-container-id-5 div.sk-parallel-item:only-child::after {width: 0;}#sk-container-id-5 div.sk-dashed-wrapped {border: 1px dashed gray;margin: 0 0.4em 0.5em 0.4em;box-sizing: border-box;padding-bottom: 0.4em;background-color: white;}#sk-container-id-5 div.sk-label label {font-family: monospace;font-weight: bold;display: inline-block;line-height: 1.2em;}#sk-container-id-5 div.sk-label-container {text-align: center;}#sk-container-id-5 div.sk-container {/* jupyter's `normalize.less` sets `[hidden] { display: none; }` but bootstrap.min.css set `[hidden] { display: none !important; }` so we also need the `!important` here to be able to override the default hidden behavior on the sphinx rendered scikit-learn.org. See: https://github.com/scikit-learn/scikit-learn/issues/21755 */display: inline-block !important;position: relative;}#sk-container-id-5 div.sk-text-repr-fallback {display: none;}</style><div id=\"sk-container-id-5\" class=\"sk-top-container\"><div class=\"sk-text-repr-fallback\"><pre>KNeighborsRegressor()</pre><b>In a Jupyter environment, please rerun this cell to show the HTML representation or trust the notebook. <br />On GitHub, the HTML representation is unable to render, please try loading this page with nbviewer.org.</b></div><div class=\"sk-container\" hidden><div class=\"sk-item\"><div class=\"sk-estimator sk-toggleable\"><input class=\"sk-toggleable__control sk-hidden--visually\" id=\"sk-estimator-id-5\" type=\"checkbox\" checked><label for=\"sk-estimator-id-5\" class=\"sk-toggleable__label sk-toggleable__label-arrow\">KNeighborsRegressor</label><div class=\"sk-toggleable__content\"><pre>KNeighborsRegressor()</pre></div></div></div></div></div>"
            ]
          },
          "metadata": {},
          "execution_count": 54
        }
      ]
    },
    {
      "cell_type": "code",
      "source": [
        "train_score = knn_model.score(X_train_scaled, y_train)\n",
        "test_score = knn_model.score(X_test_scaled, y_test)"
      ],
      "metadata": {
        "id": "scmrhAh5PVvU"
      },
      "execution_count": null,
      "outputs": []
    },
    {
      "cell_type": "code",
      "source": [
        "print(\"K-Nearest Neighbors Regressor Model\")\n",
        "print(f\"Train Score: {train_score:.2f}\")\n",
        "print(f\"Test Score: {test_score:.2f}\")"
      ],
      "metadata": {
        "colab": {
          "base_uri": "https://localhost:8080/"
        },
        "id": "dabIX0NHPYKy",
        "outputId": "8ca6f0b6-ff39-4188-df51-4b2771c4cf5d"
      },
      "execution_count": null,
      "outputs": [
        {
          "output_type": "stream",
          "name": "stdout",
          "text": [
            "K-Nearest Neighbors Regressor Model\n",
            "Train Score: 0.96\n",
            "Test Score: 0.94\n"
          ]
        }
      ]
    },
    {
      "cell_type": "markdown",
      "source": [
        "THE TRAIN SCORE FOR KNN MODEL IS 96 %\n",
        "THE TEST SCORE FOR KNN MODEL IS 94%"
      ],
      "metadata": {
        "id": "RcfshQQfPjku"
      }
    },
    {
      "cell_type": "markdown",
      "source": [
        "GRADIENT BOOSTING REGRESSOR\n"
      ],
      "metadata": {
        "id": "HVuq9RjsPrw7"
      }
    },
    {
      "cell_type": "code",
      "source": [
        "gradient_boosting_model = GradientBoostingRegressor(random_state=42)"
      ],
      "metadata": {
        "id": "siEg-3piP2Gi"
      },
      "execution_count": null,
      "outputs": []
    },
    {
      "cell_type": "code",
      "source": [
        "gradient_boosting_model.fit(X_train, y_train)"
      ],
      "metadata": {
        "colab": {
          "base_uri": "https://localhost:8080/",
          "height": 75
        },
        "id": "7BBZaIOsQRba",
        "outputId": "8efd5603-fec8-4854-9812-585d5bef1e4f"
      },
      "execution_count": null,
      "outputs": [
        {
          "output_type": "execute_result",
          "data": {
            "text/plain": [
              "GradientBoostingRegressor(random_state=42)"
            ],
            "text/html": [
              "<style>#sk-container-id-6 {color: black;background-color: white;}#sk-container-id-6 pre{padding: 0;}#sk-container-id-6 div.sk-toggleable {background-color: white;}#sk-container-id-6 label.sk-toggleable__label {cursor: pointer;display: block;width: 100%;margin-bottom: 0;padding: 0.3em;box-sizing: border-box;text-align: center;}#sk-container-id-6 label.sk-toggleable__label-arrow:before {content: \"▸\";float: left;margin-right: 0.25em;color: #696969;}#sk-container-id-6 label.sk-toggleable__label-arrow:hover:before {color: black;}#sk-container-id-6 div.sk-estimator:hover label.sk-toggleable__label-arrow:before {color: black;}#sk-container-id-6 div.sk-toggleable__content {max-height: 0;max-width: 0;overflow: hidden;text-align: left;background-color: #f0f8ff;}#sk-container-id-6 div.sk-toggleable__content pre {margin: 0.2em;color: black;border-radius: 0.25em;background-color: #f0f8ff;}#sk-container-id-6 input.sk-toggleable__control:checked~div.sk-toggleable__content {max-height: 200px;max-width: 100%;overflow: auto;}#sk-container-id-6 input.sk-toggleable__control:checked~label.sk-toggleable__label-arrow:before {content: \"▾\";}#sk-container-id-6 div.sk-estimator input.sk-toggleable__control:checked~label.sk-toggleable__label {background-color: #d4ebff;}#sk-container-id-6 div.sk-label input.sk-toggleable__control:checked~label.sk-toggleable__label {background-color: #d4ebff;}#sk-container-id-6 input.sk-hidden--visually {border: 0;clip: rect(1px 1px 1px 1px);clip: rect(1px, 1px, 1px, 1px);height: 1px;margin: -1px;overflow: hidden;padding: 0;position: absolute;width: 1px;}#sk-container-id-6 div.sk-estimator {font-family: monospace;background-color: #f0f8ff;border: 1px dotted black;border-radius: 0.25em;box-sizing: border-box;margin-bottom: 0.5em;}#sk-container-id-6 div.sk-estimator:hover {background-color: #d4ebff;}#sk-container-id-6 div.sk-parallel-item::after {content: \"\";width: 100%;border-bottom: 1px solid gray;flex-grow: 1;}#sk-container-id-6 div.sk-label:hover label.sk-toggleable__label {background-color: #d4ebff;}#sk-container-id-6 div.sk-serial::before {content: \"\";position: absolute;border-left: 1px solid gray;box-sizing: border-box;top: 0;bottom: 0;left: 50%;z-index: 0;}#sk-container-id-6 div.sk-serial {display: flex;flex-direction: column;align-items: center;background-color: white;padding-right: 0.2em;padding-left: 0.2em;position: relative;}#sk-container-id-6 div.sk-item {position: relative;z-index: 1;}#sk-container-id-6 div.sk-parallel {display: flex;align-items: stretch;justify-content: center;background-color: white;position: relative;}#sk-container-id-6 div.sk-item::before, #sk-container-id-6 div.sk-parallel-item::before {content: \"\";position: absolute;border-left: 1px solid gray;box-sizing: border-box;top: 0;bottom: 0;left: 50%;z-index: -1;}#sk-container-id-6 div.sk-parallel-item {display: flex;flex-direction: column;z-index: 1;position: relative;background-color: white;}#sk-container-id-6 div.sk-parallel-item:first-child::after {align-self: flex-end;width: 50%;}#sk-container-id-6 div.sk-parallel-item:last-child::after {align-self: flex-start;width: 50%;}#sk-container-id-6 div.sk-parallel-item:only-child::after {width: 0;}#sk-container-id-6 div.sk-dashed-wrapped {border: 1px dashed gray;margin: 0 0.4em 0.5em 0.4em;box-sizing: border-box;padding-bottom: 0.4em;background-color: white;}#sk-container-id-6 div.sk-label label {font-family: monospace;font-weight: bold;display: inline-block;line-height: 1.2em;}#sk-container-id-6 div.sk-label-container {text-align: center;}#sk-container-id-6 div.sk-container {/* jupyter's `normalize.less` sets `[hidden] { display: none; }` but bootstrap.min.css set `[hidden] { display: none !important; }` so we also need the `!important` here to be able to override the default hidden behavior on the sphinx rendered scikit-learn.org. See: https://github.com/scikit-learn/scikit-learn/issues/21755 */display: inline-block !important;position: relative;}#sk-container-id-6 div.sk-text-repr-fallback {display: none;}</style><div id=\"sk-container-id-6\" class=\"sk-top-container\"><div class=\"sk-text-repr-fallback\"><pre>GradientBoostingRegressor(random_state=42)</pre><b>In a Jupyter environment, please rerun this cell to show the HTML representation or trust the notebook. <br />On GitHub, the HTML representation is unable to render, please try loading this page with nbviewer.org.</b></div><div class=\"sk-container\" hidden><div class=\"sk-item\"><div class=\"sk-estimator sk-toggleable\"><input class=\"sk-toggleable__control sk-hidden--visually\" id=\"sk-estimator-id-6\" type=\"checkbox\" checked><label for=\"sk-estimator-id-6\" class=\"sk-toggleable__label sk-toggleable__label-arrow\">GradientBoostingRegressor</label><div class=\"sk-toggleable__content\"><pre>GradientBoostingRegressor(random_state=42)</pre></div></div></div></div></div>"
            ]
          },
          "metadata": {},
          "execution_count": 58
        }
      ]
    },
    {
      "cell_type": "code",
      "source": [
        "train_score = gradient_boosting_model.score(X_train, y_train)\n",
        "test_score = gradient_boosting_model.score(X_test, y_test)"
      ],
      "metadata": {
        "id": "wHh4J0cjQUZl"
      },
      "execution_count": null,
      "outputs": []
    },
    {
      "cell_type": "code",
      "source": [
        "print(\"Gradient Boosting Regressor Model\")\n",
        "print(f\"Train Score: {train_score:.2f}\")\n",
        "print(f\"Test Score: {test_score:.2f}\")\n"
      ],
      "metadata": {
        "colab": {
          "base_uri": "https://localhost:8080/"
        },
        "id": "0EJetevdQYq5",
        "outputId": "fff41c78-de2b-4e31-cdad-b8388d760459"
      },
      "execution_count": null,
      "outputs": [
        {
          "output_type": "stream",
          "name": "stdout",
          "text": [
            "Gradient Boosting Regressor Model\n",
            "Train Score: 0.92\n",
            "Test Score: 0.92\n"
          ]
        }
      ]
    },
    {
      "cell_type": "markdown",
      "source": [
        "THE TRAIN SCORE FOR GBR MODEL IS 92%\n",
        "THE TEST SCORE FOR GBR MODEL IS 92%"
      ],
      "metadata": {
        "id": "HsgddMQFQd6b"
      }
    },
    {
      "cell_type": "markdown",
      "source": [
        "XGBOOST REGRESSOR"
      ],
      "metadata": {
        "id": "HniHWAJGjX4f"
      }
    },
    {
      "cell_type": "code",
      "source": [
        "!pip install xgboost"
      ],
      "metadata": {
        "colab": {
          "base_uri": "https://localhost:8080/"
        },
        "id": "bCaXz91ijXb3",
        "outputId": "9fee562c-a48b-49fd-c58b-8d4e67fe9559"
      },
      "execution_count": null,
      "outputs": [
        {
          "output_type": "stream",
          "name": "stdout",
          "text": [
            "Requirement already satisfied: xgboost in /usr/local/lib/python3.10/dist-packages (1.7.6)\n",
            "Requirement already satisfied: numpy in /usr/local/lib/python3.10/dist-packages (from xgboost) (1.23.5)\n",
            "Requirement already satisfied: scipy in /usr/local/lib/python3.10/dist-packages (from xgboost) (1.10.1)\n"
          ]
        }
      ]
    },
    {
      "cell_type": "code",
      "source": [
        "X_train, X_test, y_train, y_test = train_test_split(X, y, test_size=0.2, random_state=42)"
      ],
      "metadata": {
        "id": "ly64KjgOjl-m"
      },
      "execution_count": null,
      "outputs": []
    },
    {
      "cell_type": "code",
      "source": [
        "from sklearn.model_selection import cross_val_score\n",
        "\n",
        "# XGBoost\n",
        "\n",
        "from xgboost import XGBRegressor, plot_importance, XGBClassifier\n",
        "\n",
        "xgb_model = XGBRegressor(n_estimators=300, max_depth=3, random_state=42)\n",
        "# Fitting the data\n",
        "xgb_model.fit(X_train, y_train)\n",
        "\n",
        "# Checking the score\n",
        "print(f\"Training Score:  {xgb_model.score(X_train, y_train):.2f}\")\n",
        "print(f\"Testing Score: {xgb_model.score(X_test, y_test):.2f}\")\n",
        "\n",
        "# Perform cross-validation\n",
        "num_folds = 5  # Number of folds for cross-validation\n",
        "scoring_metric = 'r2'  # Use R-squared score for evaluation, you can change to other metrics\n",
        "\n",
        "cross_val_scores = cross_val_score(xgb_model, X, y, cv=num_folds, scoring=scoring_metric)\n",
        "\n",
        "# Print the cross-validation scores\n",
        "for fold, score in enumerate(cross_val_scores, start=1):\n",
        "    print(f\"Fold {fold}: {score:.2f}\")\n",
        "\n",
        "# Print the average cross-validation score\n",
        "average_score = np.mean(cross_val_scores)\n",
        "print(f\"Average Cross-Validation {scoring_metric.upper()} Score: {average_score:.2f}\")"
      ],
      "metadata": {
        "colab": {
          "base_uri": "https://localhost:8080/"
        },
        "id": "_BImER_1jmEp",
        "outputId": "192eb1b9-1316-4b5f-a618-3489085a2601"
      },
      "execution_count": null,
      "outputs": [
        {
          "output_type": "stream",
          "name": "stdout",
          "text": [
            "Training Score:  0.97\n",
            "Testing Score: 0.96\n",
            "Fold 1: 0.95\n",
            "Fold 2: 0.96\n",
            "Fold 3: 0.96\n",
            "Fold 4: 0.95\n",
            "Fold 5: 0.96\n",
            "Average Cross-Validation R2 Score: 0.96\n"
          ]
        }
      ]
    },
    {
      "cell_type": "code",
      "source": [
        "# XGBoost --- scaled variables\n",
        "\n",
        "from xgboost import XGBRegressor, plot_importance, XGBClassifier\n",
        "\n",
        "xgb_model = XGBRegressor(n_estimators=300, max_depth=3, random_state=42)\n",
        "# Fitting the data\n",
        "xgb_model.fit(X_train_scaled, y_train)\n",
        "\n",
        "# Checking the score\n",
        "print(f\"Training Score:  {xgb_model.score(X_train_scaled, y_train):.2f}\")\n",
        "print(f\"Testing Score: {xgb_model.score(X_test_scaled, y_test):.2f}\")\n",
        "\n"
      ],
      "metadata": {
        "colab": {
          "base_uri": "https://localhost:8080/"
        },
        "id": "ixP3_5sPjmBC",
        "outputId": "7c067a97-2003-46fc-d66c-739b96284005"
      },
      "execution_count": null,
      "outputs": [
        {
          "output_type": "stream",
          "name": "stdout",
          "text": [
            "Training Score:  0.97\n",
            "Testing Score: 0.96\n"
          ]
        }
      ]
    },
    {
      "cell_type": "markdown",
      "source": [
        "THE TRAIN SCORE FOR XGBOOST MODEL IS 97% AND TEST SCORE IS 96%."
      ],
      "metadata": {
        "id": "9a4LykuvyXoj"
      }
    },
    {
      "cell_type": "code",
      "source": [
        "# Get feature importance and feature names\n",
        "importances = xgb_model.feature_importances_\n",
        "feature_names = X_train.columns\n",
        "\n",
        "# Visualizing feature importances\n",
        "plt.figure(figsize=(10, 6))\n",
        "plot_importance(xgb_model, importance_type='weight')  # You can use 'weight', 'gain', or 'cover'\n",
        "plt.title('Feature Importance')\n",
        "plt.xlabel('Feature Importance Score')\n",
        "plt.ylabel('Feature Names')\n",
        "\n",
        "# Set y-axis tick labels as the original feature names\n",
        "plt.yticks(range(len(feature_names)), feature_names)\n",
        "\n",
        "plt.show()"
      ],
      "metadata": {
        "colab": {
          "base_uri": "https://localhost:8080/",
          "height": 489
        },
        "id": "3nKWDux1jl8O",
        "outputId": "9a16e740-c610-446e-9021-a7fc8f5d927f"
      },
      "execution_count": null,
      "outputs": [
        {
          "output_type": "display_data",
          "data": {
            "text/plain": [
              "<Figure size 1000x600 with 0 Axes>"
            ]
          },
          "metadata": {}
        },
        {
          "output_type": "display_data",
          "data": {
            "text/plain": [
              "<Figure size 640x480 with 1 Axes>"
            ],
            "image/png": "[encoded data removed]"
          },
          "metadata": {}
        }
      ]
    },
    {
      "cell_type": "code",
      "source": [
        "# bias distribution\n",
        "\n",
        "y_predict = xgb_model.predict(X_test)\n",
        "\n",
        "no_bias_count = 0\n",
        "upper_bias_count = 0\n",
        "lower_bias_count = 0\n",
        "\n",
        "for true_val, pred_val in zip(y_test, y_predict):\n",
        "    if pred_val > true_val:\n",
        "        upper_bias_count += 1\n",
        "    elif pred_val < true_val:\n",
        "        lower_bias_count += 1\n",
        "    elif pred_val == true_val:\n",
        "        no_bias_count += 1\n",
        "\n",
        "total_samples = len(y_test)\n",
        "upper_bias_proportion = upper_bias_count / total_samples\n",
        "lower_bias_proportion = lower_bias_count / total_samples\n",
        "no_bias_proportion = no_bias_count / total_samples\n",
        "\n",
        "print(\"Total Predicted records: \",  total_samples)\n",
        "print(f\"Proportion of Upper Bias:  {upper_bias_proportion:.2f}\")\n",
        "print(f\"Proportion of Lower Bias:  {lower_bias_proportion:.2f}\")\n"
      ],
      "metadata": {
        "colab": {
          "base_uri": "https://localhost:8080/"
        },
        "id": "yrgHPeuwkRw0",
        "outputId": "20c640af-2a79-4f77-9e63-ed818ca7d18d"
      },
      "execution_count": null,
      "outputs": [
        {
          "output_type": "stream",
          "name": "stdout",
          "text": [
            "Total Predicted records:  13440\n",
            "Proportion of Upper Bias:  0.00\n",
            "Proportion of Lower Bias:  1.00\n"
          ]
        }
      ]
    }
  ]
}